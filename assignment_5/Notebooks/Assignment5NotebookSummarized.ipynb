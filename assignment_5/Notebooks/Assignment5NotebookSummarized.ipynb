{
    "metadata": {
        "kernelspec": {
            "name": "SQL",
            "display_name": "SQL",
            "language": "sql"
        },
        "language_info": {
            "name": "sql",
            "version": ""
        }
    },
    "nbformat_minor": 2,
    "nbformat": 4,
    "cells": [
        {
            "cell_type": "markdown",
            "source": [
                "# Preprocessing the data\n",
                "\n",
                "The MERFISH mouse ileum dataset contains two important large files, molecules.csv and poly\\_per\\_z.json, which we first want to load into the SQL container with a spatial data type column. Unsurprisingly, the data comes essentially in a text format, and needs to be preprocessed. \n",
                "\n",
                "## Molecules.csv\n",
                "\n",
                "We tried multiple approaches to this, using a python script and using SQL queries. It turned out the SQL queries were simpler and easier to execute."
            ],
            "metadata": {
                "azdata_cell_guid": "2a87c5eb-28e0-475c-83b6-0d0b959439cb"
            },
            "attachments": {}
        },
        {
            "cell_type": "code",
            "source": [
                "CREATE DATABASE MouseIleum;"
            ],
            "metadata": {
                "azdata_cell_guid": "6d1a039e-6230-4d90-bae1-f759b466e86b",
                "language": "sql"
            },
            "outputs": [
                {
                    "output_type": "display_data",
                    "data": {
                        "text/html": "Commands completed successfully."
                    },
                    "metadata": {}
                },
                {
                    "output_type": "display_data",
                    "data": {
                        "text/html": "Total execution time: 00:00:00.839"
                    },
                    "metadata": {}
                }
            ],
            "execution_count": 1
        },
        {
            "cell_type": "code",
            "source": [
                "USE MouseIleum;\r\n",
                "DROP TABLE IF EXISTS [dbo].[Molecules];\r\n",
                "CREATE TABLE [dbo].[Molecules](\r\n",
                "  molecule_id int,\r\n",
                "  gene nvarchar(8),\r\n",
                "  x_pixel smallint,\r\n",
                "  y_pixel smallint,\r\n",
                "  z_pixel float,\r\n",
                "  x_um float,\r\n",
                "  y_um float,\r\n",
                "  z_um float,\r\n",
                "  area tinyint,\r\n",
                "  total_mag float,\r\n",
                "  brightness float, \r\n",
                "  qc_score float\r\n",
                ");\r\n",
                "\r\n",
                "BULK INSERT [dbo].[Molecules] FROM '/var/data/raw_data/molecules.csv'\r\n",
                "WITH ( \r\n",
                "    FIRSTROW = 2, -- skip the column headers\r\n",
                "    ROWS_PER_BATCH = 819665, -- however many total rows the data has\r\n",
                "    FIELDTERMINATOR = ',', \r\n",
                "    ROWTERMINATOR = '0x0a',\r\n",
                "    KEEPNULLS\r\n",
                ");"
            ],
            "metadata": {
                "language": "sql",
                "azdata_cell_guid": "6792cf9c-ce78-47b7-a961-9c145d14f609"
            },
            "outputs": [
                {
                    "output_type": "display_data",
                    "data": {
                        "text/html": "(819665 rows affected)"
                    },
                    "metadata": {}
                },
                {
                    "output_type": "display_data",
                    "data": {
                        "text/html": "Total execution time: 00:00:08.165"
                    },
                    "metadata": {}
                }
            ],
            "execution_count": 5
        },
        {
            "cell_type": "markdown",
            "source": [
                "The above code is also duplicated in importMolecules.sql.  \n",
                "From here, run the processMoleculesPoints.sql script shown below."
            ],
            "metadata": {
                "language": "sql",
                "azdata_cell_guid": "bd0a3c9b-b9fd-4645-8fc2-c40be9637fa4"
            },
            "attachments": {}
        },
        {
            "cell_type": "code",
            "source": [
                "USE MouseIleum;\r\n",
                "\r\n",
                "DROP TABLE IF EXISTS MoleculesWithPoints;\r\n",
                "SELECT molecule_id, gene, x_pixel, y_pixel, z_pixel INTO MoleculesWithPoints FROM Molecules;\r\n",
                "\r\n",
                "ALTER TABLE MoleculesWithPoints\r\n",
                "    ADD z_layer tinyint,\r\n",
                "        point geometry;\r\n",
                "\r\n",
                "UPDATE MoleculesWithPoints\r\n",
                "    SET z_layer = CAST(ROUND(z_pixel /13.76819064, 0) AS int) + 1;\r\n",
                "\r\n",
                "UPDATE MoleculesWithPoints\r\n",
                "    SET point = geometry::STGeomFromText('POINT(' + CONVERT(VARCHAR(5), x_pixel) + ' ' + CONVERT(VARCHAR(5), y_pixel) + ')', 0)"
            ],
            "metadata": {
                "language": "sql",
                "azdata_cell_guid": "8e9a772e-e68e-4bbe-a841-25b9c5f91b21"
            },
            "outputs": [
                {
                    "output_type": "display_data",
                    "data": {
                        "text/html": "(819665 rows affected)"
                    },
                    "metadata": {}
                },
                {
                    "output_type": "display_data",
                    "data": {
                        "text/html": "(819665 rows affected)"
                    },
                    "metadata": {}
                },
                {
                    "output_type": "display_data",
                    "data": {
                        "text/html": "(819665 rows affected)"
                    },
                    "metadata": {}
                },
                {
                    "output_type": "display_data",
                    "data": {
                        "text/html": "Total execution time: 00:01:37.270"
                    },
                    "metadata": {}
                }
            ],
            "execution_count": 2
        },
        {
            "cell_type": "markdown",
            "source": [
                "We now have a useful intermediate table MoleculesWithPoints."
            ],
            "metadata": {
                "language": "sql",
                "azdata_cell_guid": "eb694a28-7df7-4ad7-83e3-53a966d889e4"
            },
            "attachments": {}
        },
        {
            "cell_type": "markdown",
            "source": [
                "# Preprocessing the polygon data\n",
                "\n",
                "Just run the python script, get\\_baysor\\_polygons.py. \n",
                "\n",
                "Notes:\n",
                "\n",
                "- May require some modification of the script for the file paths.\n",
                "- Make sure pandas, tqdm are installed\n",
                "- After running the script, move the generated csv to the processed\\_data directory"
            ],
            "metadata": {
                "language": "sql",
                "azdata_cell_guid": "feea67d0-997b-4855-831d-70a432bdf6ab"
            },
            "attachments": {}
        },
        {
            "cell_type": "code",
            "source": [
                "USE MouseIleum;\r\n",
                "\r\n",
                "DROP TABLE IF EXISTS CellPolygons;\r\n",
                "CREATE TABLE CellPolygons (\r\n",
                "    id int, \r\n",
                "    z tinyint,\r\n",
                "    cell smallint,\r\n",
                "    polygon_string NVARCHAR(MAX),\r\n",
                ");\r\n",
                "\r\n",
                "BULK INSERT CellPolygons FROM '/var/data/processed_data/baysor_SQL_polygons.csv' WITH ( FIRSTROW = 2, FIELDTERMINATOR = ',');\r\n",
                "\r\n",
                "-- SELECT * FROM CellPolygons"
            ],
            "metadata": {
                "language": "sql",
                "azdata_cell_guid": "92e36c33-d27b-40b1-8f0a-155b39c14888"
            },
            "outputs": [
                {
                    "output_type": "display_data",
                    "data": {
                        "text/html": "(33861 rows affected)"
                    },
                    "metadata": {}
                },
                {
                    "output_type": "display_data",
                    "data": {
                        "text/html": "Total execution time: 00:00:01.968"
                    },
                    "metadata": {}
                }
            ],
            "execution_count": 1
        },
        {
            "cell_type": "code",
            "source": [
                "USE MouseIleum;\r\n",
                "UPDATE [dbo].[CellPolygons]\r\n",
                "    SET polygon_string = SUBSTRING(polygon_string, 2, LEN(polygon_string))\r\n",
                "    WHERE LEFT(polygon_string,1) = '\"';"
            ],
            "metadata": {
                "language": "sql",
                "azdata_cell_guid": "d4c7e726-66de-4f3e-a318-fd81dbe45e77"
            },
            "outputs": [
                {
                    "output_type": "display_data",
                    "data": {
                        "text/html": "(33861 rows affected)"
                    },
                    "metadata": {}
                },
                {
                    "output_type": "display_data",
                    "data": {
                        "text/html": "Total execution time: 00:00:09.504"
                    },
                    "metadata": {}
                }
            ],
            "execution_count": 2
        },
        {
            "cell_type": "code",
            "source": [
                "USE MouseIleum;\r\n",
                "UPDATE [dbo].[CellPolygons]\r\n",
                "    SET polygon_string = SUBSTRING(polygon_string, 1, LEN(polygon_string)-2);\r\n",
                "    -- WHERE RIGHT(polygon_string,2) = '\" ';  -- for some reason this wasn't working as expected"
            ],
            "metadata": {
                "language": "sql",
                "azdata_cell_guid": "0829de20-8b27-4374-94df-7fd5a0a587bd",
                "tags": []
            },
            "outputs": [
                {
                    "output_type": "display_data",
                    "data": {
                        "text/html": "(33861 rows affected)"
                    },
                    "metadata": {}
                },
                {
                    "output_type": "display_data",
                    "data": {
                        "text/html": "Total execution time: 00:00:00.196"
                    },
                    "metadata": {}
                }
            ],
            "execution_count": 3
        },
        {
            "cell_type": "markdown",
            "source": [
                "The above commands are duplicated in importCellPolygons.sql.\n",
                "\n",
                "Then, run processCellPolygons.sql (below) to get the polygons represented as geometries, not strings."
            ],
            "metadata": {
                "language": "sql",
                "azdata_cell_guid": "afb287e3-3d25-4d5f-9e73-b6fe722cc026"
            },
            "attachments": {}
        },
        {
            "cell_type": "code",
            "source": [
                "USE MouseIleum;\r\n",
                "\r\n",
                "ALTER TABLE CellPolygons\r\n",
                "ADD polygon geometry;\r\n",
                "\r\n",
                "GO\r\n",
                "UPDATE CellPolygons\r\n",
                "    SET polygon = geometry::STGeomFromText(polygon_string, 0);\r\n",
                "\r\n",
                "ALTER TABLE CellPolygons\r\n",
                "    DROP COLUMN polygon_string;"
            ],
            "metadata": {
                "language": "sql",
                "azdata_cell_guid": "476297a9-cba3-4fa9-915b-1869cfa8d438"
            },
            "outputs": [],
            "execution_count": null
        },
        {
            "cell_type": "markdown",
            "source": [
                "Now the data is in SQL, which is great.  \n",
                "\n",
                "# Performing spatial queries\n",
                "\n",
                "Before we can actually do spatial stuff effectively, we should add spatial indices. \n",
                "\n",
                "## Adding spatial indices\n",
                "\n",
                "Before we can add spatial indices we also have to add primary keys."
            ],
            "metadata": {
                "language": "sql",
                "azdata_cell_guid": "d87ebfb5-5363-48ef-802b-116ce0ca0da2"
            },
            "attachments": {}
        },
        {
            "cell_type": "code",
            "source": [
                "USE MouseIleum;\r\n",
                "ALTER TABLE MoleculesWithPoints\r\n",
                "ADD id int identity(1,1) not null;\r\n",
                "\r\n",
                "GO\r\n",
                "ALTER TABLE MoleculesWithPoints\r\n",
                "ADD CONSTRAINT molecules_id_primary_key PRIMARY KEY(id);\r\n",
                "\r\n",
                "GO\r\n",
                "CREATE SPATIAL INDEX PointInd ON\r\n",
                "   [MouseIleum].[dbo].[MoleculesWithPoints](point)\r\n",
                "   WITH (GRIDS = (HIGH, HIGH, HIGH, HIGH), \r\n",
                "        BOUNDING_BOX = (XMIN = 112,YMIN = 0,XMAX = 5722, YMAX = 9393)); -- the actual min/max values in the data"
            ],
            "metadata": {
                "language": "sql",
                "azdata_cell_guid": "73cb48ce-71c6-4f34-8a50-7986bce6c690"
            },
            "outputs": [
                {
                    "output_type": "display_data",
                    "data": {
                        "text/html": "Commands completed successfully."
                    },
                    "metadata": {}
                },
                {
                    "output_type": "error",
                    "evalue": "Msg 1913, Level 16, State 211, Line 10\r\nThe operation failed because an index or statistics with name 'PointInd' already exists on table 'MouseIleum.dbo.MoleculesWithPoints'.",
                    "ename": "",
                    "traceback": []
                },
                {
                    "output_type": "display_data",
                    "data": {
                        "text/html": "Total execution time: 00:00:00.009"
                    },
                    "metadata": {}
                }
            ],
            "execution_count": 7
        },
        {
            "cell_type": "code",
            "source": [
                "USE MouseIleum\r\n",
                "ALTER TABLE CellPolygons\r\n",
                "ALTER COLUMN \r\n",
                "    id int NOT NULL;\r\n",
                "\r\n",
                "GO\r\n",
                "ALTER TABLE CellPolygons\r\n",
                "ADD CONSTRAINT polygons_id_primary_key PRIMARY KEY(id);\r\n",
                "\r\n",
                "GO\r\n",
                "CREATE SPATIAL INDEX PolygonInd ON\r\n",
                "   [MouseIleum].[dbo].[CellPolygons](polygon)\r\n",
                "   WITH (GRIDS = (HIGH, HIGH, HIGH, HIGH), \r\n",
                "        BOUNDING_BOX = (XMIN = 112,YMIN = 0,XMAX = 5722, YMAX = 9393)); -- the actual min/max values in the data"
            ],
            "metadata": {
                "language": "sql",
                "azdata_cell_guid": "54baf3a9-9983-48fc-95b6-d351cca3c1d4"
            },
            "outputs": [
                {
                    "output_type": "display_data",
                    "data": {
                        "text/html": "Commands completed successfully."
                    },
                    "metadata": {}
                },
                {
                    "output_type": "display_data",
                    "data": {
                        "text/html": "Commands completed successfully."
                    },
                    "metadata": {}
                },
                {
                    "output_type": "display_data",
                    "data": {
                        "text/html": "Total execution time: 00:00:01.423"
                    },
                    "metadata": {}
                }
            ],
            "execution_count": 8
        },
        {
            "cell_type": "markdown",
            "source": [
                "## Actually running the queries"
            ],
            "metadata": {
                "language": "sql",
                "azdata_cell_guid": "83295f03-22d7-46f9-816a-409ec3bba170"
            },
            "attachments": {}
        },
        {
            "cell_type": "code",
            "source": [
                "USE MouseIleum;\r\n",
                "UPDATE CellPolygons\r\n",
                "    SET polygon = polygon.MakeValid();"
            ],
            "metadata": {
                "language": "sql",
                "azdata_cell_guid": "de453ed4-d8c9-4624-a28e-da0d631f58e0"
            },
            "outputs": [
                {
                    "output_type": "display_data",
                    "data": {
                        "text/html": "(33861 rows affected)"
                    },
                    "metadata": {}
                },
                {
                    "output_type": "display_data",
                    "data": {
                        "text/html": "Total execution time: 00:00:11.795"
                    },
                    "metadata": {}
                }
            ],
            "execution_count": 9
        },
        {
            "cell_type": "code",
            "source": [
                "DECLARE @startTime DATETIME\r\n",
                "declare @endTime DATETIME\r\n",
                "Set @starttime = getdate()\r\n",
                "\r\n",
                "-- do the code\r\n",
                "USE MouseIleum;\r\n",
                "DROP TABLE IF EXISTS MoleculeCountsLayer1;\r\n",
                "SELECT mol.gene, COUNT(mol.molecule_id) as molecule_count, poly.cell, 1 as z_layer INTO MoleculeCountsLayer1 FROM (\r\n",
                "    SELECT * FROM [MouseIleum].[dbo].[MoleculesWithPoints] \r\n",
                "        WHERE z_layer=1 ) as mol\r\n",
                "    INNER JOIN (   \r\n",
                "        SELECT * FROM [MouseIleum].[dbo].[CellPolygons] \r\n",
                "        WHERE z=1 ) as poly\r\n",
                "    ON poly.polygon.STIntersects(mol.point) = 1 -- =1 is needed bc output is 0 or 1 instead of T/F\r\n",
                "    GROUP BY mol.gene , poly.cell;\r\n",
                "\r\n",
                "Set @endTime = GETDATE()\r\n",
                "SELECT @EndTime - @StartTime;\r\n",
                "\r\n",
                "GO 5"
            ],
            "metadata": {
                "language": "sql",
                "azdata_cell_guid": "f2e9aba2-fd74-420d-ac19-6a36a5ca944e"
            },
            "outputs": [
                {
                    "output_type": "display_data",
                    "data": {
                        "text/html": "(36468 rows affected)"
                    },
                    "metadata": {}
                },
                {
                    "output_type": "display_data",
                    "data": {
                        "text/html": "(1 row affected)"
                    },
                    "metadata": {}
                },
                {
                    "output_type": "display_data",
                    "data": {
                        "text/html": "Total execution time: 00:00:08.325"
                    },
                    "metadata": {}
                },
                {
                    "output_type": "execute_result",
                    "metadata": {},
                    "execution_count": 31,
                    "data": {
                        "application/vnd.dataresource+json": {
                            "schema": {
                                "fields": [
                                    {
                                        "name": "(No column name)"
                                    }
                                ]
                            },
                            "data": [
                                {
                                    "0": "1900-01-01 00:00:08.210"
                                }
                            ]
                        },
                        "text/html": [
                            "<table>",
                            "<tr><th>(No column name)</th></tr>",
                            "<tr><td>1900-01-01 00:00:08.210</td></tr>",
                            "</table>"
                        ]
                    }
                }
            ],
            "execution_count": 31
        },
        {
            "cell_type": "code",
            "source": [
                "DECLARE @startTime DATETIME\r\n",
                "declare @endTime DATETIME\r\n",
                "Set @starttime = getdate()\r\n",
                "\r\n",
                "-- do the code\r\n",
                "USE MouseIleum;\r\n",
                "DROP TABLE IF EXISTS MoleculeCountsAllLayers;\r\n",
                "SELECT mol.molecule_id, mol.gene, mol.point, poly.cell as cell_id, poly.polygon as cell_polygon, 1 as z_layer INTO MoleculeCountsAllLayers FROM (\r\n",
                "    SELECT * FROM [MouseIleum].[dbo].[MoleculesWithPoints] \r\n",
                "        WHERE z_layer=1 ) as mol\r\n",
                "    INNER JOIN (   \r\n",
                "        SELECT * FROM [MouseIleum].[dbo].[CellPolygons] \r\n",
                "        WHERE z=1 ) as poly\r\n",
                "    ON poly.polygon.STIntersects(mol.point) = 1 -- =1 is needed bc output is 0 or 1 instead of T/F\r\n",
                "\r\n",
                "Set @endTime = GETDATE()\r\n",
                "SELECT @EndTime - @StartTime;\r\n",
                "\r\n",
                "GO 1"
            ],
            "metadata": {
                "language": "sql",
                "azdata_cell_guid": "c3e9a7d9-257a-454b-aa38-72a80eb11186"
            },
            "outputs": [
                {
                    "output_type": "display_data",
                    "data": {
                        "text/html": "(93131 rows affected)"
                    },
                    "metadata": {}
                },
                {
                    "output_type": "display_data",
                    "data": {
                        "text/html": "(1 row affected)"
                    },
                    "metadata": {}
                },
                {
                    "output_type": "display_data",
                    "data": {
                        "text/html": "Total execution time: 00:00:07.698"
                    },
                    "metadata": {}
                },
                {
                    "output_type": "execute_result",
                    "metadata": {},
                    "execution_count": 41,
                    "data": {
                        "application/vnd.dataresource+json": {
                            "schema": {
                                "fields": [
                                    {
                                        "name": "(No column name)"
                                    }
                                ]
                            },
                            "data": [
                                {
                                    "0": "1900-01-01 00:00:07.687"
                                }
                            ]
                        },
                        "text/html": [
                            "<table>",
                            "<tr><th>(No column name)</th></tr>",
                            "<tr><td>1900-01-01 00:00:07.687</td></tr>",
                            "</table>"
                        ]
                    }
                }
            ],
            "execution_count": 41
        },
        {
            "cell_type": "code",
            "source": [
                "USE MouseIleum;\r\n",
                "\r\n",
                "\r\n",
                "SELECT * INTO #Whatever FROM (\r\n",
                "    SELECT * FROM [MouseIleum].[dbo].[MoleculesWithPoints] \r\n",
                "        WHERE z_layer=2 ) as mol\r\n",
                "    INNER JOIN (   \r\n",
                "        SELECT * FROM [MouseIleum].[dbo].[CellPolygons] \r\n",
                "        WHERE z=2 ) as poly\r\n",
                "    ON poly.polygon.STIntersects(mol.point) = 1 -- =1 is needed bc output is 0 or 1 instead of T/F\r\n",
                "\r\n",
                "-- INSERT INTO MoleculeCountsAllLayers (molecule_id, gene, point, cell_id, cell_polygon, z_layer)\r\n",
                "-- SELECT mol.molecule_id, mol.gene, mol.point, poly.cell as cell_id, poly.polygon as cell_polygon, 2 as z_layer INTO MoleculeCountsAllLayers FROM #Whatever\r\n",
                ""
            ],
            "metadata": {
                "language": "sql",
                "azdata_cell_guid": "31c14b3e-9b03-48de-911e-1aae03bbaf25"
            },
            "outputs": [
                {
                    "output_type": "error",
                    "evalue": "Msg 2705, Level 16, State 3, Line 4\r\nColumn names in each table must be unique. Column name 'id' in table '#Whatever' is specified more than once.",
                    "ename": "",
                    "traceback": []
                },
                {
                    "output_type": "display_data",
                    "data": {
                        "text/html": "Total execution time: 00:00:00.027"
                    },
                    "metadata": {}
                }
            ],
            "execution_count": 40
        },
        {
            "cell_type": "markdown",
            "source": [
                "# Convex Hulls\n",
                "\n",
                "and polygon validity"
            ],
            "metadata": {
                "azdata_cell_guid": "076d35e4-c39a-4ceb-86c2-a01f7ac3405d"
            },
            "attachments": {}
        },
        {
            "cell_type": "code",
            "source": [
                "USE MouseIleum;\r\n",
                "\r\n",
                "DECLARE @point1 geometry;\r\n",
                "set @point1 = (SELECT TOP(1) point from MoleculesWithPoints where molecule_id = 1);\r\n",
                "\r\n",
                "SELECT @point1.STAsText();\r\n",
                "SELECT * from MoleculesWithPoints where molecule_id = 1;\r\n",
                "\r\n",
                "SELECT * FROM CellPolygons\r\n",
                "where polygon.STIntersects(@point1) = 1;\r\n",
                "\r\n",
                ""
            ],
            "metadata": {
                "azdata_cell_guid": "a6fd8a22-f50b-4311-8308-e3e76ff4fc99",
                "language": "sql"
            },
            "outputs": [
                {
                    "output_type": "display_data",
                    "data": {
                        "text/html": "(1 row affected)"
                    },
                    "metadata": {}
                },
                {
                    "output_type": "display_data",
                    "data": {
                        "text/html": "(1 row affected)"
                    },
                    "metadata": {}
                },
                {
                    "output_type": "display_data",
                    "data": {
                        "text/html": "(7 rows affected)"
                    },
                    "metadata": {}
                },
                {
                    "output_type": "display_data",
                    "data": {
                        "text/html": "Total execution time: 00:00:00.075"
                    },
                    "metadata": {}
                },
                {
                    "output_type": "execute_result",
                    "metadata": {},
                    "execution_count": 21,
                    "data": {
                        "application/vnd.dataresource+json": {
                            "schema": {
                                "fields": [
                                    {
                                        "name": "(No column name)"
                                    }
                                ]
                            },
                            "data": [
                                {
                                    "0": "POINT (1705 1271)"
                                }
                            ]
                        },
                        "text/html": [
                            "<table>",
                            "<tr><th>(No column name)</th></tr>",
                            "<tr><td>POINT (1705 1271)</td></tr>",
                            "</table>"
                        ]
                    }
                },
                {
                    "output_type": "execute_result",
                    "metadata": {},
                    "execution_count": 21,
                    "data": {
                        "application/vnd.dataresource+json": {
                            "schema": {
                                "fields": [
                                    {
                                        "name": "molecule_id"
                                    },
                                    {
                                        "name": "gene"
                                    },
                                    {
                                        "name": "x_pixel"
                                    },
                                    {
                                        "name": "y_pixel"
                                    },
                                    {
                                        "name": "z_pixel"
                                    },
                                    {
                                        "name": "z_layer"
                                    },
                                    {
                                        "name": "point"
                                    },
                                    {
                                        "name": "id"
                                    }
                                ]
                            },
                            "data": [
                                {
                                    "0": "1",
                                    "1": "Maoa",
                                    "2": "1705",
                                    "3": "1271",
                                    "4": "0",
                                    "5": "1",
                                    "6": "0x00000000010C0000000000A49A400000000000DC9340",
                                    "7": "38976"
                                }
                            ]
                        },
                        "text/html": [
                            "<table>",
                            "<tr><th>molecule_id</th><th>gene</th><th>x_pixel</th><th>y_pixel</th><th>z_pixel</th><th>z_layer</th><th>point</th><th>id</th></tr>",
                            "<tr><td>1</td><td>Maoa</td><td>1705</td><td>1271</td><td>0</td><td>1</td><td>0x00000000010C0000000000A49A400000000000DC9340</td><td>38976</td></tr>",
                            "</table>"
                        ]
                    }
                },
                {
                    "output_type": "execute_result",
                    "metadata": {},
                    "execution_count": 21,
                    "data": {
                        "application/vnd.dataresource+json": {
                            "schema": {
                                "fields": [
                                    {
                                        "name": "id"
                                    },
                                    {
                                        "name": "z"
                                    },
                                    {
                                        "name": "cell"
                                    },
                                    {
                                        "name": "polygon"
                                    }
                                ]
                            },
                            "data": [
                                {
                                    "0": "25362",
                                    "1": "7",
                                    "2": "28",
                                    "3": "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
                                },
                                {
                                    "0": "3942",
                                    "1": "2",
                                    "2": "77",
                                    "3": "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
                                },
                                {
                                    "0": "8039",
                                    "1": "3",
                                    "2": "79",
                                    "3": "0x000000000104470000000000000000409B4000000000000494400000000000349B4000000000000494400000000000289B40000000000004944000000000001C9B4000000000000494400000000000109B4000000000000494400000000000049B4000000000000494400000000000F89A4000000000000494400000000000EC9A4000000000000494400000000000E09A4000000000000494400000000000D49A4000000000000494400000000000C89A4000000000000494400000000000BC9A4000000000000494400000000000B09A4000000000000494400000000000A49A4000000000000494400000000000989A40000000000004944000000000008C9A40000000000004944000000000008C9A400000000000F893400000000000809A400000000000EC93400000000000749A400000000000E093400000000000689A400000000000D4934000000000005C9A400000000000C8934000000000005C9A400000000000BC934000000000005C9A400000000000B0934000000000005C9A400000000000A4934000000000005C9A40000000000098934000000000005C9A4000000000008C934000000000005C9A40000000000080934000000000005C9A40000000000074934000000000005C9A40000000000068934000000000005C9A4000000000005C93400000000000689A4000000000005093400000000000749A4000000000004493400000000000809A40000000000038934000000000008C9A4000000000002C93400000000000989A4000000000002093400000000000A49A4000000000002093400000000000B09A4000000000002093400000000000BC9A4000000000001493400000000000C89A4000000000001493400000000000D49A4000000000001493400000000000E09A4000000000001493400000000000EC9A4000000000001493400000000000F89A4000000000001493400000000000049B4000000000001493400000000000109B40000000000014934000000000001C9B4000000000001493400000000000289B4000000000001493400000000000349B4000000000001493400000000000409B40000000000014934000000000004C9B4000000000001493400000000000589B4000000000001493400000000000589B4000000000002093400000000000649B4000000000002C93400000000000649B4000000000003893400000000000709B4000000000004493400000000000709B40000000000050934000000000007C9B4000000000005C934000000000007C9B4000000000006893400000000000889B4000000000007493400000000000889B4000000000008093400000000000889B4000000000008C93400000000000889B4000000000009893400000000000889B400000000000A4934000000000007C9B400000000000B093400000000000709B400000000000BC93400000000000649B400000000000C893400000000000589B400000000000D493400000000000589B400000000000E0934000000000004C9B400000000000EC934000000000004C9B400000000000F893400000000000409B40000000000004944001000000020000000001000000FFFFFFFF0000000003"
                                },
                                {
                                    "0": "12384",
                                    "1": "4",
                                    "2": "73",
                                    "3": "0x0000000001046500000000000000005C9A400000000000C494400000000000509A400000000000C494400000000000449A400000000000C494400000000000389A400000000000C4944000000000002C9A400000000000C494400000000000209A400000000000C494400000000000209A400000000000B894400000000000209A400000000000AC94400000000000149A400000000000A094400000000000149A4000000000009494400000000000149A4000000000008894400000000000149A4000000000007C94400000000000149A4000000000007094400000000000149A4000000000006494400000000000149A4000000000005894400000000000149A4000000000004C94400000000000149A4000000000004094400000000000149A4000000000003494400000000000149A4000000000002894400000000000149A4000000000001C94400000000000149A4000000000001094400000000000209A4000000000000494400000000000209A400000000000F893400000000000209A400000000000EC93400000000000209A400000000000E093400000000000149A400000000000D493400000000000149A400000000000C893400000000000149A400000000000BC93400000000000149A400000000000B093400000000000149A400000000000A493400000000000149A4000000000009893400000000000149A4000000000008C93400000000000149A4000000000008093400000000000149A4000000000007493400000000000149A4000000000006893400000000000149A4000000000005C93400000000000149A4000000000005093400000000000149A4000000000004493400000000000149A4000000000003893400000000000209A4000000000002C93400000000000209A40000000000020934000000000002C9A4000000000001493400000000000389A4000000000000893400000000000449A4000000000000893400000000000509A40000000000008934000000000005C9A4000000000001493400000000000689A4000000000001493400000000000749A4000000000002093400000000000809A40000000000020934000000000008C9A4000000000002C93400000000000989A4000000000002C93400000000000A49A4000000000002C93400000000000B09A4000000000003893400000000000BC9A4000000000003893400000000000C89A4000000000003893400000000000D49A4000000000003893400000000000E09A4000000000003893400000000000EC9A4000000000003893400000000000F89A4000000000004493400000000000049B4000000000004493400000000000109B40000000000044934000000000001C9B40000000000050934000000000001C9B4000000000005C93400000000000289B4000000000006893400000000000349B4000000000007493400000000000409B40000000000080934000000000004C9B4000000000008093400000000000589B4000000000008C93400000000000589B4000000000009893400000000000649B400000000000A493400000000000649B400000000000B093400000000000649B400000000000BC93400000000000649B400000000000C893400000000000649B400000000000D493400000000000589B400000000000E0934000000000004C9B400000000000EC934000000000004C9B400000000000F8934000000000004C9B4000000000000494400000000000409B4000000000001094400000000000409B4000000000001C94400000000000409B4000000000002894400000000000409B4000000000003494400000000000349B4000000000004094400000000000289B40000000000040944000000000001C9B4000000000004094400000000000109B4000000000004094400000000000049B4000000000004C94400000000000F89A4000000000004C94400000000000EC9A4000000000004C94400000000000E09A4000000000005894400000000000D49A4000000000006494400000000000C89A4000000000006494400000000000BC9A4000000000007094400000000000B09A4000000000007C94400000000000A49A4000000000008894400000000000989A40000000000094944000000000008C9A400000000000A094400000000000809A400000000000AC94400000000000749A400000000000B894400000000000689A400000000000B8944000000000005C9A400000000000C4944001000000020000000001000000FFFFFFFF0000000003"
                                },
                                {
                                    "0": "16881",
                                    "1": "5",
                                    "2": "58",
                                    "3": "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
                                },
                                {
                                    "0": "71",
                                    "1": "1",
                                    "2": "72",
                                    "3": "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
                                },
                                {
                                    "0": "21296",
                                    "1": "6",
                                    "2": "47",
                                    "3": "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
                                }
                            ]
                        },
                        "text/html": [
                            "<table>",
                            "<tr><th>id</th><th>z</th><th>cell</th><th>polygon</th></tr>",
                            "<tr><td>25362</td><td>7</td><td>28</td><td>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td></tr>",
                            "<tr><td>3942</td><td>2</td><td>77</td><td>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td></tr>",
                            "<tr><td>8039</td><td>3</td><td>79</td><td>0x000000000104470000000000000000409B4000000000000494400000000000349B4000000000000494400000000000289B40000000000004944000000000001C9B4000000000000494400000000000109B4000000000000494400000000000049B4000000000000494400000000000F89A4000000000000494400000000000EC9A4000000000000494400000000000E09A4000000000000494400000000000D49A4000000000000494400000000000C89A4000000000000494400000000000BC9A4000000000000494400000000000B09A4000000000000494400000000000A49A4000000000000494400000000000989A40000000000004944000000000008C9A40000000000004944000000000008C9A400000000000F893400000000000809A400000000000EC93400000000000749A400000000000E093400000000000689A400000000000D4934000000000005C9A400000000000C8934000000000005C9A400000000000BC934000000000005C9A400000000000B0934000000000005C9A400000000000A4934000000000005C9A40000000000098934000000000005C9A4000000000008C934000000000005C9A40000000000080934000000000005C9A40000000000074934000000000005C9A40000000000068934000000000005C9A4000000000005C93400000000000689A4000000000005093400000000000749A4000000000004493400000000000809A40000000000038934000000000008C9A4000000000002C93400000000000989A4000000000002093400000000000A49A4000000000002093400000000000B09A4000000000002093400000000000BC9A4000000000001493400000000000C89A4000000000001493400000000000D49A4000000000001493400000000000E09A4000000000001493400000000000EC9A4000000000001493400000000000F89A4000000000001493400000000000049B4000000000001493400000000000109B40000000000014934000000000001C9B4000000000001493400000000000289B4000000000001493400000000000349B4000000000001493400000000000409B40000000000014934000000000004C9B4000000000001493400000000000589B4000000000001493400000000000589B4000000000002093400000000000649B4000000000002C93400000000000649B4000000000003893400000000000709B4000000000004493400000000000709B40000000000050934000000000007C9B4000000000005C934000000000007C9B4000000000006893400000000000889B4000000000007493400000000000889B4000000000008093400000000000889B4000000000008C93400000000000889B4000000000009893400000000000889B400000000000A4934000000000007C9B400000000000B093400000000000709B400000000000BC93400000000000649B400000000000C893400000000000589B400000000000D493400000000000589B400000000000E0934000000000004C9B400000000000EC934000000000004C9B400000000000F893400000000000409B40000000000004944001000000020000000001000000FFFFFFFF0000000003</td></tr>",
                            "<tr><td>12384</td><td>4</td><td>73</td><td>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td></tr>",
                            "<tr><td>16881</td><td>5</td><td>58</td><td>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td></tr>",
                            "<tr><td>71</td><td>1</td><td>72</td><td>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td></tr>",
                            "<tr><td>21296</td><td>6</td><td>47</td><td>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td></tr>",
                            "</table>"
                        ]
                    }
                }
            ],
            "execution_count": 21
        }
    ]
}