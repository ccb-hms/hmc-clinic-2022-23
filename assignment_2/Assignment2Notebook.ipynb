{
    "metadata": {
        "kernelspec": {
            "name": "SQL",
            "display_name": "SQL",
            "language": "sql"
        },
        "language_info": {
            "name": "sql",
            "version": ""
        }
    },
    "nbformat_minor": 2,
    "nbformat": 4,
    "cells": [
        {
            "cell_type": "markdown",
            "source": [
                "# **NYC Flight Data**\n",
                "\n",
                "This mini-project deals with the NYC flight dataset in R. First, we use R to obtain the dataset, as described in the assignment description. \n",
                "\n",
                "To export from R, use the command to create a CSV file optimized for importing into SQL. We want to exclude column names because that is easier to do here than in the BULK IMPORT, and we want string values to not be enclosed in quotation marks. (We can safely do this since upon inspection the data does not contain commas.)\n",
                "\n",
                "```\n",
                "write.table(nycflights13::airlines, file=\"airlines.csv\", sep=',', na='NULL', col.names=FALSE, quote=FALSE)\n",
                "```\n",
                "\n",
                "Run similar commands for the other files.\n",
                "\n",
                "## Importing the data\n",
                "\n",
                "To create the docker container, run the following command, with \"C:\\Users\\path-to-data\" substituted by the appropriate path on your machine, and `yourStrong()Password` also appropriately replaced if desired.\n",
                "The `-v` argument creates a bind mount so that the Docker container can access data on your machine.\n",
                "\n",
                "```\n",
                "docker run -v \"C:\\Users\\path-to-data\":/var/nycflights13 -e \"ACCEPT_EULA=Y\" -e \"MSSQL_SA_PASSWORD=yourStrong()Password\" -p 1433:1433 --name nycflights --hostname nycflights -d mcr.microsoft.com/mssql/server:2019-latest\n",
                "```\n",
                "\n",
                "We want to import the tables `flights.txt`, `airlines.txt`,  `airports.txt`,  `flights.txt`,  `planes.txt`,  `weather.txt`.\n",
                ""
            ],
            "metadata": {
                "azdata_cell_guid": "396da3fc-689a-4ab8-80e0-629ea3ce767d"
            },
            "attachments": {}
        },
        {
            "cell_type": "code",
            "source": [
                "CREATE DATABASE MyLabProject;"
            ],
            "metadata": {
                "azdata_cell_guid": "e9b79664-927c-49b1-8a28-6558e27b8e94",
                "language": "sql"
            },
            "outputs": [
                {
                    "output_type": "display_data",
                    "data": {
                        "text/html": "Commands completed successfully."
                    },
                    "metadata": {}
                },
                {
                    "output_type": "display_data",
                    "data": {
                        "text/html": "Total execution time: 00:00:01.092"
                    },
                    "metadata": {}
                }
            ],
            "execution_count": 2
        },
        {
            "cell_type": "code",
            "source": [
                "USE MyLabProject;\r\n",
                "\r\n",
                "DROP TABLE IF EXISTS Airlines;\r\n",
                "CREATE TABLE Airlines (\r\n",
                "\tid VARCHAR(100) NOT NULL, -- each row is numbered as a string\r\n",
                "    carrier CHAR(4) NOT NULL, -- the carriers are 2 characters but include \"\" on either end\r\n",
                "    name VARCHAR(100) NOT NULL\r\n",
                ");\r\n",
                "\r\n",
                "BULK INSERT [MyLabProject].[dbo].[Airlines]\r\n",
                "FROM '/var/nycflights13/airlines.txt'\r\n",
                "WITH ( KEEPNULLS );"
            ],
            "metadata": {
                "azdata_cell_guid": "79c01f6c-bc08-48de-97c8-34fa16beed20",
                "language": "sql"
            },
            "outputs": [
                {
                    "output_type": "error",
                    "evalue": "Msg 4864, Level 16, State 1, Line 10\r\nBulk load data conversion error (type mismatch or invalid character for the specified codepage) for row 1, column 1 (id).",
                    "ename": "",
                    "traceback": []
                },
                {
                    "output_type": "error",
                    "evalue": "Msg 4864, Level 16, State 1, Line 10\r\nBulk load data conversion error (type mismatch or invalid character for the specified codepage) for row 2, column 1 (id).",
                    "ename": "",
                    "traceback": []
                },
                {
                    "output_type": "error",
                    "evalue": "Msg 4864, Level 16, State 1, Line 10\r\nBulk load data conversion error (type mismatch or invalid character for the specified codepage) for row 3, column 1 (id).",
                    "ename": "",
                    "traceback": []
                },
                {
                    "output_type": "error",
                    "evalue": "Msg 4864, Level 16, State 1, Line 10\r\nBulk load data conversion error (type mismatch or invalid character for the specified codepage) for row 4, column 1 (id).",
                    "ename": "",
                    "traceback": []
                },
                {
                    "output_type": "error",
                    "evalue": "Msg 4864, Level 16, State 1, Line 10\r\nBulk load data conversion error (type mismatch or invalid character for the specified codepage) for row 5, column 1 (id).",
                    "ename": "",
                    "traceback": []
                },
                {
                    "output_type": "error",
                    "evalue": "Msg 4864, Level 16, State 1, Line 10\r\nBulk load data conversion error (type mismatch or invalid character for the specified codepage) for row 6, column 1 (id).",
                    "ename": "",
                    "traceback": []
                },
                {
                    "output_type": "error",
                    "evalue": "Msg 4864, Level 16, State 1, Line 10\r\nBulk load data conversion error (type mismatch or invalid character for the specified codepage) for row 7, column 1 (id).",
                    "ename": "",
                    "traceback": []
                },
                {
                    "output_type": "error",
                    "evalue": "Msg 4864, Level 16, State 1, Line 10\r\nBulk load data conversion error (type mismatch or invalid character for the specified codepage) for row 8, column 1 (id).",
                    "ename": "",
                    "traceback": []
                },
                {
                    "output_type": "error",
                    "evalue": "Msg 4864, Level 16, State 1, Line 10\r\nBulk load data conversion error (type mismatch or invalid character for the specified codepage) for row 9, column 1 (id).",
                    "ename": "",
                    "traceback": []
                },
                {
                    "output_type": "error",
                    "evalue": "Msg 4864, Level 16, State 1, Line 10\r\nBulk load data conversion error (type mismatch or invalid character for the specified codepage) for row 10, column 1 (id).",
                    "ename": "",
                    "traceback": []
                },
                {
                    "output_type": "error",
                    "evalue": "Msg 4864, Level 16, State 1, Line 10\r\nBulk load data conversion error (type mismatch or invalid character for the specified codepage) for row 11, column 1 (id).",
                    "ename": "",
                    "traceback": []
                },
                {
                    "output_type": "error",
                    "evalue": "Msg 4865, Level 16, State 1, Line 10\r\nCannot bulk load because the maximum number of errors (10) was exceeded.",
                    "ename": "",
                    "traceback": []
                },
                {
                    "output_type": "error",
                    "evalue": "Msg 7399, Level 16, State 1, Line 10\r\nThe OLE DB provider \"BULK\" for linked server \"(null)\" reported an error. The provider did not give any information about the error.",
                    "ename": "",
                    "traceback": []
                },
                {
                    "output_type": "error",
                    "evalue": "Msg 7330, Level 16, State 2, Line 10\r\nCannot fetch a row from OLE DB provider \"BULK\" for linked server \"(null)\".",
                    "ename": "",
                    "traceback": []
                },
                {
                    "output_type": "display_data",
                    "data": {
                        "text/html": "Total execution time: 00:00:00.169"
                    },
                    "metadata": {}
                }
            ],
            "execution_count": 10
        },
        {
            "cell_type": "code",
            "source": [
                "USE MyLabProject; \r\n",
                "\r\n",
                "CREATE TABLE Planes (\r\n",
                "\tid VARCHAR(100) NOT NULL, -- each row is numbered as a string\r\n",
                "    tailnum CHAR(8) NOT NULL, -- the tailnum is 6 characters but includes \"\"\r\n",
                "    year INT,\r\n",
                "    type VARCHAR(100) NOT NULL,\r\n",
                "    manufacturer VARCHAR(100),\r\n",
                "    model VARCHAR(100),\r\n",
                "    engines INT,\r\n",
                "    seats INT,\r\n",
                "    speed INT, \r\n",
                "    engine VARCHAR(100)\r\n",
                ");\r\n",
                "\r\n",
                "BULK INSERT [MyLabProject].[dbo].[Planes]\r\n",
                "FROM '/var/nycflights13/planes.txt'\r\n",
                "WITH ( KEEPNULLS );"
            ],
            "metadata": {
                "language": "sql",
                "azdata_cell_guid": "51280588-4cbd-4b90-9c96-f125e181348d"
            },
            "outputs": [
                {
                    "output_type": "display_data",
                    "data": {
                        "text/html": "(3322 rows affected)"
                    },
                    "metadata": {}
                },
                {
                    "output_type": "display_data",
                    "data": {
                        "text/html": "Total execution time: 00:00:00.337"
                    },
                    "metadata": {}
                }
            ],
            "execution_count": 3
        },
        {
            "cell_type": "code",
            "source": [
                "USE MyLabProject; \r\n",
                "\r\n",
                "CREATE TABLE Weather (\r\n",
                "    id VARCHAR(100) NOT NULL, -- each row is numbered as a string\r\n",
                "    origin CHAR(5), \r\n",
                "    year INT,\r\n",
                "    month INT,\r\n",
                "    day INT,\r\n",
                "    hour INT,\r\n",
                "    temp FLOAT,\r\n",
                "    dewp FLOAT,\r\n",
                "    humid FLOAT,\r\n",
                "    wind_dir INT,\r\n",
                "    wind_speed FLOAT,\r\n",
                "    wind_gust FLOAT,\r\n",
                "    precip FLOAT,\r\n",
                "    pressure FLOAT,\r\n",
                "    visib FLOAT,\r\n",
                "    time_hour DATETIME\r\n",
                ");\r\n",
                "\r\n",
                "BULK INSERT [MyLabProject].[dbo].[Weather]\r\n",
                "FROM '/var/nycflights13/weather.txt'\r\n",
                "WITH ( KEEPNULLS );"
            ],
            "metadata": {
                "language": "sql",
                "azdata_cell_guid": "532b5900-76dc-4132-a05f-36af58b916ec"
            },
            "outputs": [
                {
                    "output_type": "display_data",
                    "data": {
                        "text/html": "(26115 rows affected)"
                    },
                    "metadata": {}
                },
                {
                    "output_type": "display_data",
                    "data": {
                        "text/html": "Total execution time: 00:00:01.524"
                    },
                    "metadata": {}
                }
            ],
            "execution_count": 5
        },
        {
            "cell_type": "code",
            "source": [
                "USE MyLabProject; \r\n",
                "\r\n",
                "CREATE TABLE Flights (\r\n",
                "    id VARCHAR(100) NOT NULL, -- each row is numbered as a string\r\n",
                "    year INT NOT NULL,\r\n",
                "    month INT NOT NULL,\r\n",
                "    day INT NOT NULL,\r\n",
                "    dep_time INT,\r\n",
                "    sched_dep_time INT, -- actual flight departure time, provided as HHMM or HMM, ex. 529 or 1100\r\n",
                "    dep_delay INT, \r\n",
                "    arr_time INT,\r\n",
                "    sched_arr_time INT,\r\n",
                "    arr_delay INT,\r\n",
                "    carrier CHAR(4),\r\n",
                "    flight INT,\r\n",
                "    tailnum CHAR(8),\r\n",
                "    origin CHAR(5),\r\n",
                "    dest CHAR(5),\r\n",
                "    air_time INT,\r\n",
                "    distance INT,\r\n",
                "    hour INT,\r\n",
                "    minute INT,\r\n",
                "    time_hour DATETIME\r\n",
                ");\r\n",
                "\r\n",
                "BULK INSERT [MyLabProject].[dbo].[Flights]\r\n",
                "FROM '/var/nycflights13/flights.txt'\r\n",
                "WITH ( KEEPNULLS );"
            ],
            "metadata": {
                "language": "sql",
                "azdata_cell_guid": "19a21aa4-6b45-401a-bacd-235ed564453b"
            },
            "outputs": [
                {
                    "output_type": "error",
                    "evalue": "Msg 4864, Level 16, State 1, Line 26\r\nBulk load data conversion error (type mismatch or invalid character for the specified codepage) for row 1, column 2 (year).",
                    "ename": "",
                    "traceback": []
                },
                {
                    "output_type": "error",
                    "evalue": "Msg 4864, Level 16, State 1, Line 26\r\nBulk load data conversion error (type mismatch or invalid character for the specified codepage) for row 472, column 10 (arr_delay).",
                    "ename": "",
                    "traceback": []
                },
                {
                    "output_type": "error",
                    "evalue": "Msg 4864, Level 16, State 1, Line 26\r\nBulk load data conversion error (type mismatch or invalid character for the specified codepage) for row 478, column 10 (arr_delay).",
                    "ename": "",
                    "traceback": []
                },
                {
                    "output_type": "error",
                    "evalue": "Msg 4864, Level 16, State 1, Line 26\r\nBulk load data conversion error (type mismatch or invalid character for the specified codepage) for row 616, column 10 (arr_delay).",
                    "ename": "",
                    "traceback": []
                },
                {
                    "output_type": "error",
                    "evalue": "Msg 4864, Level 16, State 1, Line 26\r\nBulk load data conversion error (type mismatch or invalid character for the specified codepage) for row 644, column 10 (arr_delay).",
                    "ename": "",
                    "traceback": []
                },
                {
                    "output_type": "error",
                    "evalue": "Msg 4864, Level 16, State 1, Line 26\r\nBulk load data conversion error (type mismatch or invalid character for the specified codepage) for row 726, column 10 (arr_delay).",
                    "ename": "",
                    "traceback": []
                },
                {
                    "output_type": "error",
                    "evalue": "Msg 4864, Level 16, State 1, Line 26\r\nBulk load data conversion error (type mismatch or invalid character for the specified codepage) for row 734, column 10 (arr_delay).",
                    "ename": "",
                    "traceback": []
                },
                {
                    "output_type": "error",
                    "evalue": "Msg 4864, Level 16, State 1, Line 26\r\nBulk load data conversion error (type mismatch or invalid character for the specified codepage) for row 755, column 8 (arr_time).",
                    "ename": "",
                    "traceback": []
                },
                {
                    "output_type": "error",
                    "evalue": "Msg 4864, Level 16, State 1, Line 26\r\nBulk load data conversion error (type mismatch or invalid character for the specified codepage) for row 839, column 5 (dep_time).",
                    "ename": "",
                    "traceback": []
                },
                {
                    "output_type": "error",
                    "evalue": "Msg 4864, Level 16, State 1, Line 26\r\nBulk load data conversion error (type mismatch or invalid character for the specified codepage) for row 840, column 5 (dep_time).",
                    "ename": "",
                    "traceback": []
                },
                {
                    "output_type": "error",
                    "evalue": "Msg 4864, Level 16, State 1, Line 26\r\nBulk load data conversion error (type mismatch or invalid character for the specified codepage) for row 841, column 5 (dep_time).",
                    "ename": "",
                    "traceback": []
                },
                {
                    "output_type": "error",
                    "evalue": "Msg 4865, Level 16, State 1, Line 26\r\nCannot bulk load because the maximum number of errors (10) was exceeded.",
                    "ename": "",
                    "traceback": []
                },
                {
                    "output_type": "error",
                    "evalue": "Msg 7399, Level 16, State 1, Line 26\r\nThe OLE DB provider \"BULK\" for linked server \"(null)\" reported an error. The provider did not give any information about the error.",
                    "ename": "",
                    "traceback": []
                },
                {
                    "output_type": "error",
                    "evalue": "Msg 7330, Level 16, State 2, Line 26\r\nCannot fetch a row from OLE DB provider \"BULK\" for linked server \"(null)\".",
                    "ename": "",
                    "traceback": []
                },
                {
                    "output_type": "display_data",
                    "data": {
                        "text/html": "Total execution time: 00:00:00.200"
                    },
                    "metadata": {}
                }
            ],
            "execution_count": 6
        },
        {
            "cell_type": "code",
            "source": [
                "USE MyLabProject;\r\n",
                "\r\n",
                "CREATE TABLE Airports (\r\n",
                "    id VARCHAR(100) NOT NULL, -- each row is numbered as a string\r\n",
                "    faa CHAR(5),\r\n",
                "    name VARCHAR(100),\r\n",
                "    lat FLOAT,\r\n",
                "    lon FLOAT,\r\n",
                "    alt INT,\r\n",
                "    tz INT,\r\n",
                "    dst CHAR(3), -- whether the airport was in daylight savings: \"A\" for yes, \"N\" for no, \"U\" for unknown\r\n",
                "    timezone VARCHAR(100) -- IANA time zone,  ex. \"America/New_York\"\r\n",
                ");\r\n",
                "\r\n",
                "BULK INSERT [MyLabProject].[dbo].[Airports]\r\n",
                "FROM '/var/nycflights13/airports.txt'\r\n",
                "WITH ( KEEPNULLS );"
            ],
            "metadata": {
                "language": "sql",
                "azdata_cell_guid": "5c32265d-d144-4ec5-8bc8-a8e201053c0b"
            },
            "outputs": [
                {
                    "output_type": "display_data",
                    "data": {
                        "text/html": "(1458 rows affected)"
                    },
                    "metadata": {}
                },
                {
                    "output_type": "display_data",
                    "data": {
                        "text/html": "Total execution time: 00:00:00.153"
                    },
                    "metadata": {}
                }
            ],
            "execution_count": 7
        },
        {
            "cell_type": "markdown",
            "source": [
                "## Running some queries!\r\n",
                "\r\n",
                "Now we should be ready to answer some questions about the data."
            ],
            "metadata": {
                "language": "sql",
                "azdata_cell_guid": "2e2ba884-8b26-469e-be02-be9004cfaacd"
            },
            "attachments": {}
        },
        {
            "cell_type": "code",
            "source": [
                "USE MyLabProject;\r\n",
                "\r\n",
                "-- query for task 1\r\n",
                "SELECT TOP (1) tailnum, count(tailnum) AS count \r\n",
                "    FROM [MyLabProject].[dbo].[Flights]\r\n",
                "    group by tailnum\r\n",
                "    order by count desc\r\n",
                ";\r\n",
                "\r\n",
                "-- query for task 2\r\n",
                "SELECT TOP (1) tailnum, SUM(distance) AS total_miles\r\n",
                "    FROM [MyLabProject].[dbo].[Flights]\r\n",
                "    WHERE tailnum IS NOT NULL\r\n",
                "    group by tailnum\r\n",
                "    order by total_miles desc\r\n",
                ";\r\n",
                "\r\n",
                "-- query for task 3\r\n",
                "SELECT TOP (1) a.name, AVG(w.temp) as avg_temp\r\n",
                "    FROM [MyLabProject].[dbo].[Flights] as f \r\n",
                "    JOIN [MyLabProject].[dbo].[Weather] as w\r\n",
                "    ON w.time_hour = f.time_hour\r\n",
                "    JOIN [MyLabProject].[dbo].[Airlines] as a \r\n",
                "    ON f.carrier = a.carrier\r\n",
                "    group by a.name\r\n",
                "    order by avg_temp desc\r\n",
                ";"
            ],
            "metadata": {
                "language": "sql",
                "azdata_cell_guid": "60ac22a1-db0e-436c-9192-c48dade7e254"
            },
            "outputs": [],
            "execution_count": null
        }
    ]
}