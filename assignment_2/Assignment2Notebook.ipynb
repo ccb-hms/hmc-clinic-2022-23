{
    "metadata": {
        "kernelspec": {
            "name": "SQL",
            "display_name": "SQL",
            "language": "sql"
        },
        "language_info": {
            "name": "sql",
            "version": ""
        }
    },
    "nbformat_minor": 2,
    "nbformat": 4,
    "cells": [
        {
            "cell_type": "markdown",
            "source": [
                "# **NYC Flight Data**\n",
                "\n",
                "This mini-project deals with the NYC flight dataset in R. First, we use R to obtain the dataset, as described in the assignment description. \n",
                "\n",
                "To export from R, use this command to create a CSV file optimized for importing into SQL. We want to exclude column names because that is easier to do here than in the BULK IMPORT, and we want string values to not be enclosed in quotation marks. (We can safely do this since upon inspection the data does not contain commas.)\n",
                "\n",
                "```\n",
                "write.table(nycflights13::airlines, file=\"airlines.csv\", sep=',', na='', col.names=FALSE, quote=FALSE)\n",
                "\n",
                "```\n",
                "\n",
                "Run similar commands for the other files.\n",
                "\n",
                "## Importing the data\n",
                "\n",
                "To create the docker container, run the following command, with \"C:\\\\Users\\\\path-to-data\" substituted by the appropriate path on your machine, and `yourStrong()Password` also appropriately replaced if desired. The `-v` argument creates a bind mount so that the Docker container can access data on your machine.\n",
                "\n",
                "```\n",
                "docker run -v \"C:\\Users\\path-to-data\":/var/nycflights13 -e \"ACCEPT_EULA=Y\" -e \"MSSQL_SA_PASSWORD=yourStrong()Password\" -p 1433:1433 --name nycflights --hostname nycflights -d mcr.microsoft.com/mssql/server:2019-latest\n",
                "\n",
                "```\n",
                "\n",
                "We want to import the tables `flights.txt`, `airlines.txt`, `airports.txt`, `flights.txt`, `planes.txt`, `weather.txt`."
            ],
            "metadata": {
                "azdata_cell_guid": "396da3fc-689a-4ab8-80e0-629ea3ce767d"
            },
            "attachments": {}
        },
        {
            "cell_type": "code",
            "source": [
                "CREATE DATABASE MyLabProject;"
            ],
            "metadata": {
                "azdata_cell_guid": "e9b79664-927c-49b1-8a28-6558e27b8e94",
                "language": "sql"
            },
            "outputs": [
                {
                    "output_type": "display_data",
                    "data": {
                        "text/html": "Commands completed successfully."
                    },
                    "metadata": {}
                },
                {
                    "output_type": "display_data",
                    "data": {
                        "text/html": "Total execution time: 00:00:01.092"
                    },
                    "metadata": {}
                }
            ],
            "execution_count": 2
        },
        {
            "cell_type": "code",
            "source": [
                "USE MyLabProject;\r\n",
                "\r\n",
                "DROP TABLE IF EXISTS Airlines;\r\n",
                "CREATE TABLE Airlines (\r\n",
                "\tid tinyint NOT NULL, \r\n",
                "    carrier CHAR(2) NOT NULL,\r\n",
                "    name VARCHAR(100) NOT NULL\r\n",
                ");\r\n",
                "\r\n",
                "BULK INSERT [MyLabProject].[dbo].[Airlines]\r\n",
                "FROM '/var/nycflights13/airlines.csv'\r\n",
                "WITH ( \r\n",
                "    FIELDTERMINATOR = ',', \r\n",
                "    ROWTERMINATOR = '0x0d', -- your end of line character might vary\r\n",
                "    KEEPNULLS );"
            ],
            "metadata": {
                "azdata_cell_guid": "79c01f6c-bc08-48de-97c8-34fa16beed20",
                "language": "sql"
            },
            "outputs": [
                {
                    "output_type": "display_data",
                    "data": {
                        "text/html": "(16 rows affected)"
                    },
                    "metadata": {}
                },
                {
                    "output_type": "display_data",
                    "data": {
                        "text/html": "Total execution time: 00:00:00.167"
                    },
                    "metadata": {}
                }
            ],
            "execution_count": 19
        },
        {
            "cell_type": "code",
            "source": [
                "USE MyLabProject; \r\n",
                "\r\n",
                "DROP TABLE IF EXISTS Planes;\r\n",
                "CREATE TABLE Planes (\r\n",
                "\tid int NOT NULL,\r\n",
                "    tailnum CHAR(6) NOT NULL,\r\n",
                "    year INT,\r\n",
                "    type VARCHAR(100) NOT NULL,\r\n",
                "    manufacturer VARCHAR(100),\r\n",
                "    model VARCHAR(100),\r\n",
                "    engines INT,\r\n",
                "    seats INT,\r\n",
                "    speed INT, \r\n",
                "    engine VARCHAR(100)\r\n",
                ");\r\n",
                "\r\n",
                "BULK INSERT [MyLabProject].[dbo].[Planes]\r\n",
                "FROM '/var/nycflights13/planes.csv'\r\n",
                "WITH ( \r\n",
                "    FIELDTERMINATOR = ',', \r\n",
                "    ROWTERMINATOR = '0x0d', -- your end of line character might vary\r\n",
                "    KEEPNULLS );"
            ],
            "metadata": {
                "language": "sql",
                "azdata_cell_guid": "51280588-4cbd-4b90-9c96-f125e181348d"
            },
            "outputs": [
                {
                    "output_type": "display_data",
                    "data": {
                        "text/html": "(3322 rows affected)"
                    },
                    "metadata": {}
                },
                {
                    "output_type": "display_data",
                    "data": {
                        "text/html": "Total execution time: 00:00:00.251"
                    },
                    "metadata": {}
                }
            ],
            "execution_count": 24
        },
        {
            "cell_type": "code",
            "source": [
                "USE MyLabProject; \r\n",
                "\r\n",
                "DROP TABLE IF EXISTS Weather;\r\n",
                "CREATE TABLE Weather (\r\n",
                "    id INT NOT NULL, \r\n",
                "    origin CHAR(5), \r\n",
                "    year INT,\r\n",
                "    month INT,\r\n",
                "    day INT,\r\n",
                "    hour INT,\r\n",
                "    temp FLOAT,\r\n",
                "    dewp FLOAT,\r\n",
                "    humid FLOAT,\r\n",
                "    wind_dir INT,\r\n",
                "    wind_speed FLOAT,\r\n",
                "    wind_gust FLOAT,\r\n",
                "    precip FLOAT,\r\n",
                "    pressure FLOAT,\r\n",
                "    visib FLOAT,\r\n",
                "    time_hour DATETIME\r\n",
                ");\r\n",
                "\r\n",
                "BULK INSERT [MyLabProject].[dbo].[Weather]\r\n",
                "FROM '/var/nycflights13/weather.csv'\r\n",
                "WITH ( \r\n",
                "    FIELDTERMINATOR = ',', \r\n",
                "    ROWTERMINATOR = '0x0d', -- your end of line character might vary\r\n",
                "    KEEPNULLS );"
            ],
            "metadata": {
                "language": "sql",
                "azdata_cell_guid": "532b5900-76dc-4132-a05f-36af58b916ec"
            },
            "outputs": [
                {
                    "output_type": "display_data",
                    "data": {
                        "text/html": "(26115 rows affected)"
                    },
                    "metadata": {}
                },
                {
                    "output_type": "display_data",
                    "data": {
                        "text/html": "Total execution time: 00:00:00.654"
                    },
                    "metadata": {}
                }
            ],
            "execution_count": 27
        },
        {
            "cell_type": "code",
            "source": [
                "USE MyLabProject; \r\n",
                "\r\n",
                "DROP TABLE IF EXISTS Flights;\r\n",
                "CREATE TABLE Flights (\r\n",
                "    id INT NOT NULL,\r\n",
                "    year INT NOT NULL,\r\n",
                "    month INT NOT NULL,\r\n",
                "    day INT NOT NULL,\r\n",
                "    dep_time INT,\r\n",
                "    sched_dep_time INT, -- actual flight departure time, provided as HHMM or HMM, ex. 529 or 1100\r\n",
                "    dep_delay INT, \r\n",
                "    arr_time INT,\r\n",
                "    sched_arr_time INT,\r\n",
                "    arr_delay INT,\r\n",
                "    carrier CHAR(4),\r\n",
                "    flight INT,\r\n",
                "    tailnum CHAR(8),\r\n",
                "    origin CHAR(5),\r\n",
                "    dest CHAR(5),\r\n",
                "    air_time INT,\r\n",
                "    distance INT,\r\n",
                "    hour INT,\r\n",
                "    minute INT,\r\n",
                "    time_hour DATETIME\r\n",
                ");\r\n",
                "\r\n",
                "BULK INSERT [MyLabProject].[dbo].[Flights]\r\n",
                "FROM '/var/nycflights13/flights.csv'\r\n",
                "WITH ( \r\n",
                "    FIELDTERMINATOR = ',', \r\n",
                "    ROWTERMINATOR = '0x0d', -- your end of line character might vary\r\n",
                "    KEEPNULLS );"
            ],
            "metadata": {
                "language": "sql",
                "azdata_cell_guid": "19a21aa4-6b45-401a-bacd-235ed564453b"
            },
            "outputs": [
                {
                    "output_type": "display_data",
                    "data": {
                        "text/html": "(336776 rows affected)"
                    },
                    "metadata": {}
                },
                {
                    "output_type": "display_data",
                    "data": {
                        "text/html": "Total execution time: 00:00:06.938"
                    },
                    "metadata": {}
                }
            ],
            "execution_count": 26
        },
        {
            "cell_type": "code",
            "source": [
                "USE MyLabProject;\r\n",
                "\r\n",
                "DROP TABLE IF EXISTS Airports;\r\n",
                "CREATE TABLE Airports (\r\n",
                "    id VARCHAR(100) NOT NULL, -- each row is numbered as a string\r\n",
                "    faa CHAR(5),\r\n",
                "    name VARCHAR(100),\r\n",
                "    lat FLOAT,\r\n",
                "    lon FLOAT,\r\n",
                "    alt INT,\r\n",
                "    tz INT,\r\n",
                "    dst CHAR(3), -- whether the airport was in daylight savings: \"A\" for yes, \"N\" for no, \"U\" for unknown\r\n",
                "    timezone VARCHAR(100) -- IANA time zone,  ex. \"America/New_York\"\r\n",
                ");\r\n",
                "\r\n",
                "BULK INSERT [MyLabProject].[dbo].[Airports]\r\n",
                "FROM '/var/nycflights13/airports.csv'\r\n",
                "WITH ( \r\n",
                "    FIELDTERMINATOR = ',', \r\n",
                "    ROWTERMINATOR = '0x0d', -- your end of line character might vary\r\n",
                "    KEEPNULLS );"
            ],
            "metadata": {
                "language": "sql",
                "azdata_cell_guid": "5c32265d-d144-4ec5-8bc8-a8e201053c0b"
            },
            "outputs": [
                {
                    "output_type": "display_data",
                    "data": {
                        "text/html": "(1458 rows affected)"
                    },
                    "metadata": {}
                },
                {
                    "output_type": "display_data",
                    "data": {
                        "text/html": "Total execution time: 00:00:00.168"
                    },
                    "metadata": {}
                }
            ],
            "execution_count": 28
        },
        {
            "cell_type": "markdown",
            "source": [
                "## Running some queries!\r\n",
                "\r\n",
                "Now we should be ready to answer some questions about the data."
            ],
            "metadata": {
                "language": "sql",
                "azdata_cell_guid": "2e2ba884-8b26-469e-be02-be9004cfaacd"
            },
            "attachments": {}
        },
        {
            "cell_type": "code",
            "source": [
                "USE MyLabProject;\r\n",
                "\r\n",
                "-- query for task 1\r\n",
                "SELECT TOP (1) tailnum, count(tailnum) AS count \r\n",
                "    FROM [MyLabProject].[dbo].[Flights]\r\n",
                "    group by tailnum\r\n",
                "    order by count desc\r\n",
                ";\r\n",
                "\r\n",
                "-- query for task 2\r\n",
                "SELECT TOP (1) tailnum, SUM(distance) AS total_miles\r\n",
                "    FROM [MyLabProject].[dbo].[Flights]\r\n",
                "    WHERE tailnum IS NOT NULL\r\n",
                "    group by tailnum\r\n",
                "    order by total_miles desc\r\n",
                ";\r\n",
                "\r\n",
                "-- query for task 3\r\n",
                "SELECT TOP (1) a.name, AVG(w.temp) as avg_temp\r\n",
                "    FROM [MyLabProject].[dbo].[Flights] as f \r\n",
                "    JOIN [MyLabProject].[dbo].[Weather] as w\r\n",
                "    ON w.time_hour = f.time_hour\r\n",
                "    JOIN [MyLabProject].[dbo].[Airlines] as a \r\n",
                "    ON f.carrier = a.carrier\r\n",
                "    group by a.name\r\n",
                "    order by avg_temp desc\r\n",
                ";"
            ],
            "metadata": {
                "language": "sql",
                "azdata_cell_guid": "60ac22a1-db0e-436c-9192-c48dade7e254"
            },
            "outputs": [
                {
                    "output_type": "display_data",
                    "data": {
                        "text/html": "Warning: Null value is eliminated by an aggregate or other SET operation."
                    },
                    "metadata": {}
                },
                {
                    "output_type": "display_data",
                    "data": {
                        "text/html": "(1 row affected)"
                    },
                    "metadata": {}
                },
                {
                    "output_type": "display_data",
                    "data": {
                        "text/html": "(1 row affected)"
                    },
                    "metadata": {}
                },
                {
                    "output_type": "display_data",
                    "data": {
                        "text/html": "Warning: Null value is eliminated by an aggregate or other SET operation."
                    },
                    "metadata": {}
                },
                {
                    "output_type": "display_data",
                    "data": {
                        "text/html": "(1 row affected)"
                    },
                    "metadata": {}
                },
                {
                    "output_type": "display_data",
                    "data": {
                        "text/html": "Total execution time: 00:00:01.571"
                    },
                    "metadata": {}
                },
                {
                    "output_type": "execute_result",
                    "metadata": {},
                    "execution_count": 29,
                    "data": {
                        "application/vnd.dataresource+json": {
                            "schema": {
                                "fields": [
                                    {
                                        "name": "tailnum"
                                    },
                                    {
                                        "name": "count"
                                    }
                                ]
                            },
                            "data": [
                                {
                                    "0": "N725MQ  ",
                                    "1": "575"
                                }
                            ]
                        },
                        "text/html": [
                            "<table>",
                            "<tr><th>tailnum</th><th>count</th></tr>",
                            "<tr><td>N725MQ  </td><td>575</td></tr>",
                            "</table>"
                        ]
                    }
                },
                {
                    "output_type": "execute_result",
                    "metadata": {},
                    "execution_count": 29,
                    "data": {
                        "application/vnd.dataresource+json": {
                            "schema": {
                                "fields": [
                                    {
                                        "name": "tailnum"
                                    },
                                    {
                                        "name": "total_miles"
                                    }
                                ]
                            },
                            "data": [
                                {
                                    "0": "N328AA  ",
                                    "1": "939101"
                                }
                            ]
                        },
                        "text/html": [
                            "<table>",
                            "<tr><th>tailnum</th><th>total_miles</th></tr>",
                            "<tr><td>N328AA  </td><td>939101</td></tr>",
                            "</table>"
                        ]
                    }
                },
                {
                    "output_type": "execute_result",
                    "metadata": {},
                    "execution_count": 29,
                    "data": {
                        "application/vnd.dataresource+json": {
                            "schema": {
                                "fields": [
                                    {
                                        "name": "name"
                                    },
                                    {
                                        "name": "avg_temp"
                                    }
                                ]
                            },
                            "data": [
                                {
                                    "0": "SkyWest Airlines Inc.",
                                    "1": "68.43499999999999"
                                }
                            ]
                        },
                        "text/html": [
                            "<table>",
                            "<tr><th>name</th><th>avg_temp</th></tr>",
                            "<tr><td>SkyWest Airlines Inc.</td><td>68.43499999999999</td></tr>",
                            "</table>"
                        ]
                    }
                }
            ],
            "execution_count": 29
        }
    ]
}