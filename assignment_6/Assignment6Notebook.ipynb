{
    "metadata": {
        "kernelspec": {
            "name": "SQL",
            "display_name": "SQL",
            "language": "sql"
        },
        "language_info": {
            "name": "sql",
            "version": ""
        }
    },
    "nbformat_minor": 2,
    "nbformat": 4,
    "cells": [
        {
            "cell_type": "markdown",
            "source": [
                "# Assignment 6\n",
                "\n",
                "First we have to create some SQL tables."
            ],
            "metadata": {
                "azdata_cell_guid": "b2cdc772-1548-4f1b-af4a-97d744eda5ca"
            },
            "attachments": {}
        },
        {
            "cell_type": "code",
            "source": [
                "CREATE DATABASE MouseHypothalamus;"
            ],
            "metadata": {
                "azdata_cell_guid": "3e665471-6300-4d72-93ef-9473d99ba1a0",
                "language": "sql"
            },
            "outputs": [
                {
                    "output_type": "error",
                    "ename": "",
                    "evalue": "Msg 1801, Level 16, State 3, Line 1\nDatabase 'MouseHypothalamus' already exists. Choose a different database name.",
                    "traceback": []
                },
                {
                    "output_type": "display_data",
                    "data": {
                        "text/html": "Total execution time: 00:00:00.002"
                    },
                    "metadata": {}
                }
            ],
            "execution_count": 2
        },
        {
            "cell_type": "code",
            "source": [
                "USE MouseHypothalamus;\r\n",
                "DROP TABLE IF EXISTS #TempMolecules;\r\n",
                "CREATE TABLE #TempMolecules(\r\n",
                "    Gene_name NVARCHAR(10) NOT NULL,\r\n",
                "    Cell_name NVARCHAR(40),\r\n",
                "    Animal_ID int,\r\n",
                "    Bregma float,\r\n",
                "    Animal_sex nvarchar(6) NOT NULL,\r\n",
                "    Behavior nvarchar(20),\r\n",
                "    Centroid_X float NOT NULL,\r\n",
                "    Centroid_Y float NOT NULL,\r\n",
                "    Centroid_Z float NOT NULL,\r\n",
                "    Total_brightness float,\r\n",
                "    Area int,\r\n",
                "    Error_bit tinyint,\r\n",
                "    Error_direction tinyint\r\n",
                ");\r\n",
                "\r\n",
                "BULK INSERT #TempMolecules FROM '/var/data/merfish_barcodes.csv'\r\n",
                "WITH ( \r\n",
                "    FIRSTROW = 2, -- skip the column headers\r\n",
                "    --ROWS_PER_BATCH = 467052741, -- however many total rows the data has\r\n",
                "    FIELDTERMINATOR = ',', \r\n",
                "    ROWTERMINATOR = '0x0a',\r\n",
                "    KEEPNULLS\r\n",
                ");\r\n",
                "\r\n",
                "SELECT IDENTITY(int,1,1) as id,* INTO Molecules FROM #TempMolecules;"
            ],
            "metadata": {
                "azdata_cell_guid": "2262d9fa-0e90-4d7f-9f1f-91c8418d5fc1",
                "language": "sql",
                "tags": []
            },
            "outputs": [
                {
                    "output_type": "display_data",
                    "data": {
                        "text/html": "(467052740 rows affected)"
                    },
                    "metadata": {}
                },
                {
                    "output_type": "display_data",
                    "data": {
                        "text/html": "Total execution time: 00:58:33.595"
                    },
                    "metadata": {}
                }
            ],
            "execution_count": 1
        },
        {
            "cell_type": "markdown",
            "source": [
                "TODO: Add a column for the identity (auto-increment)."
            ],
            "metadata": {
                "azdata_cell_guid": "c86b4fc7-2989-44fb-a545-ab91d849e59c"
            },
            "attachments": {}
        },
        {
            "cell_type": "code",
            "source": [
                "Use MouseHypothalamus;\r\n",
                "SELECT IDENTITY(int,1,1) as id,* INTO Molecules FROM #TempMolecules;"
            ],
            "metadata": {
                "language": "sql",
                "azdata_cell_guid": "3f0113b3-3678-4201-ae68-d20a9f2586db",
                "tags": []
            },
            "outputs": [
                {
                    "output_type": "error",
                    "ename": "",
                    "evalue": "Msg 208, Level 16, State 0, Line 2\nInvalid object name '#TempMolecules'.",
                    "traceback": []
                },
                {
                    "output_type": "display_data",
                    "data": {
                        "text/html": "Total execution time: 00:00:00.004"
                    },
                    "metadata": {}
                }
            ],
            "execution_count": 3
        },
        {
            "cell_type": "markdown",
            "source": [
                "# Geometries\n",
                "\n",
                "Let's start by creating the geometry objects for the molecules."
            ],
            "metadata": {
                "language": "sql",
                "azdata_cell_guid": "17f9cc9c-a400-4e94-8de9-39b1b57ffeb8"
            },
            "attachments": {}
        },
        {
            "cell_type": "code",
            "source": [
                "Use MouseHypothalamus;\n",
                "\n",
                "DROP TABLE IF EXISTS MoleculesWithPoints;\n",
                "SELECT \n",
                "        id, \n",
                "        Gene_name, \n",
                "        Cell_name, \n",
                "        Animal_ID, \n",
                "        Bregma, \n",
                "        Centroid_Z,\n",
                "        geometry::STGeomFromText('POINT(' + CONVERT(VARCHAR(20), Centroid_X) + ' ' + CONVERT(VARCHAR(20), Centroid_Y) + ')', 0) AS point\n",
                "    INTO MoleculesWithPoints \n",
                "    FROM Molecules;\n",
                ""
            ],
            "metadata": {
                "language": "sql",
                "azdata_cell_guid": "e999bdf8-da27-4732-afb9-18fe593c324c",
                "tags": []
            },
            "outputs": [
                {
                    "output_type": "display_data",
                    "data": {
                        "text/html": "(467052740 rows affected)"
                    },
                    "metadata": {}
                },
                {
                    "output_type": "display_data",
                    "data": {
                        "text/html": "Total execution time: 04:10:57.025"
                    },
                    "metadata": {}
                }
            ],
            "execution_count": 9
        },
        {
            "cell_type": "code",
            "source": [
                "Use MouseHypothalamus;\n",
                "ALTER TABLE MoleculesWithPointsHead\n",
                "ADD CONSTRAINT moleculesWithPointsHead_id_PK PRIMARY KEY(id);"
            ],
            "metadata": {
                "azdata_cell_guid": "933758e6-19dd-42ae-967b-079418a8280c",
                "language": "sql"
            },
            "outputs": [
                {
                    "output_type": "display_data",
                    "data": {
                        "text/html": "Commands completed successfully."
                    },
                    "metadata": {}
                },
                {
                    "output_type": "display_data",
                    "data": {
                        "text/html": "Total execution time: 00:00:02.222"
                    },
                    "metadata": {}
                }
            ],
            "execution_count": 2
        },
        {
            "cell_type": "code",
            "source": [
                "ALTER TABLE MoleculesWithPoints\n",
                "ADD CONSTRAINT moleculesWithPoints_id_PK PRIMARY KEY(id);"
            ],
            "metadata": {
                "language": "sql",
                "azdata_cell_guid": "f82ef813-9c96-46f3-8e2a-1596fec87bea"
            },
            "outputs": [],
            "execution_count": null
        },
        {
            "cell_type": "code",
            "source": [
                "Use MouseHypothalamus;\n",
                "SELECT Max(Centroid_X) as maxx, Max(Centroid_Y) as maxy,  Min(Centroid_X) as minx, Min(Centroid_Y) as miny FROM MoleculesHead;\n",
                ""
            ],
            "metadata": {
                "language": "sql",
                "azdata_cell_guid": "cf9f1661-f57c-40b4-bc58-32b66a9a4c69"
            },
            "outputs": [
                {
                    "output_type": "display_data",
                    "data": {
                        "text/html": "(1 row affected)"
                    },
                    "metadata": {}
                },
                {
                    "output_type": "display_data",
                    "data": {
                        "text/html": "Total execution time: 00:00:00.012"
                    },
                    "metadata": {}
                },
                {
                    "output_type": "execute_result",
                    "execution_count": 19,
                    "data": {
                        "application/vnd.dataresource+json": {
                            "schema": {
                                "fields": [
                                    {
                                        "name": "maxx"
                                    },
                                    {
                                        "name": "maxy"
                                    },
                                    {
                                        "name": "minx"
                                    },
                                    {
                                        "name": "miny"
                                    }
                                ]
                            },
                            "data": [
                                {
                                    "0": "-2819.077",
                                    "1": "3387.196",
                                    "2": "-3017.902",
                                    "3": "3187.312"
                                }
                            ]
                        },
                        "text/html": "<table><tr><th>maxx</th><th>maxy</th><th>minx</th><th>miny</th></tr><tr><td>-2819.077</td><td>3387.196</td><td>-3017.902</td><td>3187.312</td></tr></table>"
                    },
                    "metadata": {}
                }
            ],
            "execution_count": 19
        },
        {
            "cell_type": "code",
            "source": [
                "Use MouseHypothalamus;\n",
                "SELECT Max(Centroid_X) as maxx, Max(Centroid_Y) as maxy,  Min(Centroid_X) as minx, Min(Centroid_Y) as miny FROM Molecules;"
            ],
            "metadata": {
                "language": "sql",
                "azdata_cell_guid": "5f2c2ab5-b2bc-4288-96f0-a1fe6479b60f"
            },
            "outputs": [
                {
                    "output_type": "display_data",
                    "data": {
                        "text/html": "(1 row affected)"
                    },
                    "metadata": {}
                },
                {
                    "output_type": "display_data",
                    "data": {
                        "text/html": "Total execution time: 00:00:03.816"
                    },
                    "metadata": {}
                },
                {
                    "output_type": "execute_result",
                    "execution_count": 20,
                    "data": {
                        "application/vnd.dataresource+json": {
                            "schema": {
                                "fields": [
                                    {
                                        "name": "maxx"
                                    },
                                    {
                                        "name": "maxy"
                                    },
                                    {
                                        "name": "minx"
                                    },
                                    {
                                        "name": "miny"
                                    }
                                ]
                            },
                            "data": [
                                {
                                    "0": "4203.399",
                                    "1": "4968.7",
                                    "2": "-4289.699",
                                    "3": "-5009.986"
                                }
                            ]
                        },
                        "text/html": "<table><tr><th>maxx</th><th>maxy</th><th>minx</th><th>miny</th></tr><tr><td>4203.399</td><td>4968.7</td><td>-4289.699</td><td>-5009.986</td></tr></table>"
                    },
                    "metadata": {}
                }
            ],
            "execution_count": 20
        },
        {
            "cell_type": "code",
            "source": [
                "Use MouseHypothalamus;\n",
                "CREATE SPATIAL INDEX MoleculesWithPointsHeadInd ON\n",
                "   [MouseHypothalamus].[dbo].[MoleculesWithPointsHead](point)\n",
                "   WITH (GRIDS = (HIGH, HIGH, HIGH, HIGH), \n",
                "        BOUNDING_BOX = (XMIN = -4300,YMIN = -5100, XMAX = 4300, YMAX = 5000)); -- approx based on the actual min/max values in the data"
            ],
            "metadata": {
                "language": "sql",
                "azdata_cell_guid": "1a1c022b-ae78-4ba0-89ca-64270ddfb058"
            },
            "outputs": [
                {
                    "output_type": "display_data",
                    "data": {
                        "text/html": "Commands completed successfully."
                    },
                    "metadata": {}
                },
                {
                    "output_type": "display_data",
                    "data": {
                        "text/html": "Total execution time: 00:00:05.516"
                    },
                    "metadata": {}
                }
            ],
            "execution_count": 3
        },
        {
            "cell_type": "markdown",
            "source": [
                "Now we'll create POLYGON spatial types using the CellBoundariesWithGeometryStrings data."
            ],
            "metadata": {
                "language": "sql",
                "azdata_cell_guid": "5630fe2c-c843-4027-bb03-8645c061860e"
            },
            "attachments": {}
        },
        {
            "cell_type": "code",
            "source": [
                "Use MouseHypothalamus;\n",
                "\n",
                "DROP TABLE IF EXISTS CellBoundariesWithPolygonsHead;\n",
                "SELECT \n",
                "        id, \n",
                "        layer,\n",
                "        feature_uid,\n",
                "        feature_id,\n",
                "        geometry::STGeomFromText(REPLACE(geometry_string, '\"', ''),0) AS polygon\n",
                "    INTO CellBoundariesWithPolygonsHead\n",
                "    FROM CellBoundariesHeadWithGeometryStrings;"
            ],
            "metadata": {
                "language": "sql",
                "azdata_cell_guid": "e866504f-a0c7-4474-b823-e63c22c2fa17"
            },
            "outputs": [
                {
                    "output_type": "display_data",
                    "data": {
                        "text/html": "(6930 rows affected)"
                    },
                    "metadata": {}
                },
                {
                    "output_type": "display_data",
                    "data": {
                        "text/html": "Total execution time: 00:00:11.874"
                    },
                    "metadata": {}
                }
            ],
            "execution_count": 17
        },
        {
            "cell_type": "code",
            "source": [
                "ALTER TABLE CellBoundariesWithPolygons\n",
                "ADD CONSTRAINT cellBoundariesWithPolygons_id_PK PRIMARY KEY(id);"
            ],
            "metadata": {
                "language": "sql",
                "azdata_cell_guid": "1c75c450-50c1-4374-a2b8-cc4d9ded9816"
            },
            "outputs": [],
            "execution_count": null
        },
        {
            "cell_type": "code",
            "source": [
                "ALTER TABLE CellBoundariesWithPolygonsHead\n",
                "ADD CONSTRAINT cellBoundariesWithPolygonsHead_id_PK PRIMARY KEY(id);"
            ],
            "metadata": {
                "language": "sql",
                "azdata_cell_guid": "6fb48de0-506f-4b20-959b-ce318e9b3a45",
                "tags": []
            },
            "outputs": [
                {
                    "output_type": "display_data",
                    "data": {
                        "text/html": "Commands completed successfully."
                    },
                    "metadata": {}
                },
                {
                    "output_type": "display_data",
                    "data": {
                        "text/html": "Total execution time: 00:00:25.824"
                    },
                    "metadata": {}
                }
            ],
            "execution_count": 4
        },
        {
            "cell_type": "code",
            "source": [
                "Use MouseHypothalamus;\n",
                "CREATE SPATIAL INDEX CellBoundariesWithPolygonsHeadInd ON\n",
                "   [MouseHypothalamus].[dbo].[CellBoundariesWithPolygonsHead](polygon)\n",
                "   WITH (GRIDS = (HIGH, HIGH, HIGH, HIGH), \n",
                "        BOUNDING_BOX = (XMIN = -6000,YMIN = -6000, XMAX = 6000, YMAX = 6000)); -- rounding up to +- 6000"
            ],
            "metadata": {
                "language": "sql",
                "azdata_cell_guid": "379d33cf-7828-4710-9a63-a16468fadad1",
                "tags": []
            },
            "outputs": [
                {
                    "output_type": "display_data",
                    "data": {
                        "text/html": "Commands completed successfully."
                    },
                    "metadata": {}
                },
                {
                    "output_type": "display_data",
                    "data": {
                        "text/html": "Total execution time: 00:00:07.303"
                    },
                    "metadata": {}
                }
            ],
            "execution_count": 6
        },
        {
            "cell_type": "markdown",
            "source": [
                "# Molecule count table\n",
                "\n",
                "Now, we can count how many molecules there are for each molecule type. We'll start by fixing our cell polygons using ST.MakeValid():"
            ],
            "metadata": {
                "azdata_cell_guid": "1d31e383-0c14-4ab1-8c08-8de6bc287fb5"
            },
            "attachments": {}
        },
        {
            "cell_type": "code",
            "source": [
                "USE MouseHypothalamus;\n",
                "UPDATE CellBoundariesWithPolygons\n",
                "    SET polygon = polygon.MakeValid();"
            ],
            "metadata": {
                "azdata_cell_guid": "e49f264f-1ae2-41e5-8511-96bffbbf0f85",
                "language": "sql"
            },
            "outputs": [],
            "execution_count": null
        },
        {
            "cell_type": "markdown",
            "source": [
                "To make our spatial queries run faster, we're going to split our molecules and polygon data into separate tables based on the z-layer everything resides in."
            ],
            "metadata": {
                "azdata_cell_guid": "9cb342de-fabc-4ce1-bd54-3752b3a6c1d2"
            },
            "attachments": {}
        },
        {
            "cell_type": "markdown",
            "source": [
                "Now everything is ready to go for spatial queries on each layer!"
            ],
            "metadata": {
                "azdata_cell_guid": "102d611c-8946-45c7-9d5e-ddd721de1ef3"
            },
            "attachments": {}
        },
        {
            "cell_type": "code",
            "source": [
                "-- Set variables to track the time \n",
                "DECLARE @startTime DATETIME\n",
                "declare @endTime DATETIME\n",
                "Set @starttime = getdate()\n",
                "\n",
                "-- Find molecules in each cell for one layer\n",
                "USE MouseHypothalamus;\n",
                "DROP TABLE IF EXISTS MoleculesWithPointsLayer1;\n",
                "SELECT mol.gene, COUNT(mol.molecule_id) as molecule_count, poly.cell, 1 as z_layer INTO MoleculesWithPointsLayer1 FROM (\n",
                "    SELECT * FROM [MouseHypothalamus].[dbo].[MoleculesWithPoints] \n",
                "        WHERE z_layer=1 ) as mol\n",
                "    INNER JOIN (   \n",
                "        SELECT * FROM [MouseIleum].[dbo].[CellBoundariesWithPolygons] \n",
                "        WHERE z=1 ) as poly\n",
                "    ON poly.polygon.STIntersects(mol.point) = 1 -- =1 is needed bc output is 0 or 1 instead of T/F\n",
                "    GROUP BY mol.gene , poly.cell;\n",
                "\n",
                "-- Set the ending time\n",
                "Set @endTime = GETDATE()\n",
                "SELECT @EndTime - @StartTime;\n",
                "\n",
                "-- GO 5"
            ],
            "metadata": {
                "azdata_cell_guid": "a546f593-a27b-40cd-867c-7c3f1eaeda35",
                "language": "sql",
                "tags": []
            },
            "outputs": [
                {
                    "output_type": "error",
                    "evalue": "Msg 207, Level 16, State 1, Line 11\nInvalid column name 'z_layer'.",
                    "ename": "",
                    "traceback": []
                },
                {
                    "output_type": "display_data",
                    "data": {
                        "text/html": "Total execution time: 00:00:00.030"
                    },
                    "metadata": {}
                }
            ],
            "execution_count": 3
        },
        {
            "cell_type": "code",
            "source": [
                "USE MouseHypothalamus;\n",
                "\n",
                "    SELECT * FROM [MouseHypothalamus].[dbo].[MoleculesWithPoints] \n",
                "        WHERE z_layer=1 as mol\n",
                "    INNER JOIN (   \n",
                "        SELECT * FROM [MouseHypothalamus].[dbo].[CellPolygons] \n",
                "        WHERE z=1 ) as poly\n",
                "    ON poly.polygon.STIntersects(mol.point) = 1 -- =1 is needed bc output is 0 or 1 instead of T/F\n",
                "\n",
                "-- INSERT INTO MoleculeCountsAllLayers (molecule_id, gene, point, cell_id, cell_polygon, z_layer)\n",
                "-- SELECT mol.molecule_id, mol.gene, mol.point, poly.cell as cell_id, poly.polygon as cell_polygon, 2 as z_layer INTO MoleculeCountsAllLayers FROM #Whatever\n",
                "\n",
                ""
            ],
            "metadata": {
                "azdata_cell_guid": "2f0b8e1b-6bf5-492d-8711-cf4613160e92",
                "language": "sql",
                "tags": []
            },
            "outputs": [
                {
                    "output_type": "error",
                    "evalue": "Msg 102, Level 15, State 1, Line 3\nIncorrect syntax near '('.",
                    "ename": "",
                    "traceback": []
                },
                {
                    "output_type": "error",
                    "evalue": "Msg 156, Level 15, State 1, Line 5\nIncorrect syntax near the keyword 'as'.",
                    "ename": "",
                    "traceback": []
                },
                {
                    "output_type": "error",
                    "evalue": "Msg 156, Level 15, State 1, Line 8\nIncorrect syntax near the keyword 'as'.",
                    "ename": "",
                    "traceback": []
                },
                {
                    "output_type": "display_data",
                    "data": {
                        "text/html": "Total execution time: 00:00:00.030"
                    },
                    "metadata": {}
                }
            ],
            "execution_count": 2
        }
    ]
}