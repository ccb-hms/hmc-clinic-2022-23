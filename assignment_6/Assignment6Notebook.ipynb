{
    "metadata": {
        "kernelspec": {
            "name": "SQL",
            "display_name": "SQL",
            "language": "sql"
        },
        "language_info": {
            "name": "sql",
            "version": ""
        }
    },
    "nbformat_minor": 2,
    "nbformat": 4,
    "cells": [
        {
            "cell_type": "markdown",
            "source": [
                "# Assignment 6\n",
                "\n",
                "First we have to create some SQL tables."
            ],
            "metadata": {
                "azdata_cell_guid": "b2cdc772-1548-4f1b-af4a-97d744eda5ca"
            },
            "attachments": {}
        },
        {
            "cell_type": "code",
            "source": [
                "CREATE DATABASE MouseHypothalamus;"
            ],
            "metadata": {
                "azdata_cell_guid": "3e665471-6300-4d72-93ef-9473d99ba1a0",
                "language": "sql"
            },
            "outputs": [
                {
                    "output_type": "display_data",
                    "data": {
                        "text/html": "Commands completed successfully."
                    },
                    "metadata": {}
                },
                {
                    "output_type": "display_data",
                    "data": {
                        "text/html": "Total execution time: 00:00:02.609"
                    },
                    "metadata": {}
                }
            ],
            "execution_count": 1
        },
        {
            "cell_type": "code",
            "source": [
                "USE MouseHypothalamus;\r\n",
                "DROP TABLE IF EXISTS #TempMolecules;\r\n",
                "CREATE TABLE #TempMolecules(\r\n",
                "    Gene_name NVARCHAR(10) NOT NULL,\r\n",
                "    Cell_name NVARCHAR(40),\r\n",
                "    Animal_ID int,\r\n",
                "    Bregma float,\r\n",
                "    Animal_sex nvarchar(6) NOT NULL,\r\n",
                "    Behavior nvarchar(10),\r\n",
                "    Centroid_X float NOT NULL,\r\n",
                "    Centroid_Y float NOT NULL,\r\n",
                "    Centroid_Z float NOT NULL,\r\n",
                "    Total_brightness float,\r\n",
                "    Area int,\r\n",
                "    Error_bit tinyint,\r\n",
                "    Error_direction tinyint\r\n",
                ");\r\n",
                "\r\n",
                "BULK INSERT #TempMolecules FROM '/var/data/merfish_barcodes.csv'\r\n",
                "WITH ( \r\n",
                "    FIRSTROW = 2, -- skip the column headers\r\n",
                "    ROWS_PER_BATCH = 467052741, -- however many total rows the data has\r\n",
                "    FIELDTERMINATOR = ',', \r\n",
                "    ROWTERMINATOR = '0x0a',\r\n",
                "    KEEPNULLS\r\n",
                ");\r\n",
                ""
            ],
            "metadata": {
                "azdata_cell_guid": "2262d9fa-0e90-4d7f-9f1f-91c8418d5fc1",
                "language": "sql"
            },
            "outputs": [
                {
                    "output_type": "display_data",
                    "data": {
                        "text/html": "The statement has been terminated."
                    },
                    "metadata": {}
                },
                {
                    "output_type": "display_data",
                    "data": {
                        "text/html": "Query was canceled by user"
                    },
                    "metadata": {}
                },
                {
                    "output_type": "display_data",
                    "data": {
                        "text/html": "Total execution time: 00:03:49.983"
                    },
                    "metadata": {}
                }
            ],
            "execution_count": 7
        },
        {
            "cell_type": "markdown",
            "source": [
                "TODO: Add a column for the identity (auto-increment)."
            ],
            "metadata": {
                "azdata_cell_guid": "c86b4fc7-2989-44fb-a545-ab91d849e59c"
            },
            "attachments": {}
        },
        {
            "cell_type": "code",
            "source": [
                "Use MouseHypothalamus;\r\n",
                "SELECT IDENTITY(int,1,1) as id,* INTO Molecules FROM #TempMolecules;"
            ],
            "metadata": {
                "language": "sql",
                "azdata_cell_guid": "3f0113b3-3678-4201-ae68-d20a9f2586db"
            },
            "outputs": [],
            "execution_count": null
        }
    ]
}