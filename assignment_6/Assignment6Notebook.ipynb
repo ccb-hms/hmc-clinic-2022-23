{
    "metadata": {
        "kernelspec": {
            "name": "SQL",
            "display_name": "SQL",
            "language": "sql"
        },
        "language_info": {
            "name": "sql",
            "version": ""
        }
    },
    "nbformat_minor": 2,
    "nbformat": 4,
    "cells": [
        {
            "cell_type": "markdown",
            "source": [
                "# Assignment 6\n",
                "\n",
                "First we have to create some SQL tables."
            ],
            "metadata": {
                "azdata_cell_guid": "b2cdc772-1548-4f1b-af4a-97d744eda5ca"
            },
            "attachments": {}
        },
        {
            "cell_type": "code",
            "source": [
                "CREATE DATABASE MouseHypothalamus;"
            ],
            "metadata": {
                "azdata_cell_guid": "3e665471-6300-4d72-93ef-9473d99ba1a0",
                "language": "sql"
            },
            "outputs": [
                {
                    "output_type": "error",
                    "ename": "",
                    "evalue": "Msg 1801, Level 16, State 3, Line 1\nDatabase 'MouseHypothalamus' already exists. Choose a different database name.",
                    "traceback": []
                },
                {
                    "output_type": "display_data",
                    "data": {
                        "text/html": "Total execution time: 00:00:00.002"
                    },
                    "metadata": {}
                }
            ],
            "execution_count": 2
        },
        {
            "cell_type": "code",
            "source": [
                "USE MouseHypothalamus;\r\n",
                "DROP TABLE IF EXISTS #TempMolecules;\r\n",
                "CREATE TABLE #TempMolecules(\r\n",
                "    Gene_name NVARCHAR(10) NOT NULL,\r\n",
                "    Cell_name NVARCHAR(40),\r\n",
                "    Animal_ID int,\r\n",
                "    Bregma float,\r\n",
                "    Animal_sex nvarchar(6) NOT NULL,\r\n",
                "    Behavior nvarchar(20),\r\n",
                "    Centroid_X float NOT NULL,\r\n",
                "    Centroid_Y float NOT NULL,\r\n",
                "    Centroid_Z float NOT NULL,\r\n",
                "    Total_brightness float,\r\n",
                "    Area int,\r\n",
                "    Error_bit tinyint,\r\n",
                "    Error_direction tinyint\r\n",
                ");\r\n",
                "\r\n",
                "BULK INSERT #TempMolecules FROM '/var/data/merfish_barcodes.csv'\r\n",
                "WITH ( \r\n",
                "    FIRSTROW = 2, -- skip the column headers\r\n",
                "    --ROWS_PER_BATCH = 467052741, -- however many total rows the data has\r\n",
                "    FIELDTERMINATOR = ',', \r\n",
                "    ROWTERMINATOR = '0x0a',\r\n",
                "    KEEPNULLS\r\n",
                ");\r\n",
                "\r\n",
                "SELECT IDENTITY(int,1,1) as id,* INTO Molecules FROM #TempMolecules;"
            ],
            "metadata": {
                "azdata_cell_guid": "2262d9fa-0e90-4d7f-9f1f-91c8418d5fc1",
                "language": "sql",
                "tags": []
            },
            "outputs": [
                {
                    "output_type": "display_data",
                    "data": {
                        "text/html": "(467052740 rows affected)"
                    },
                    "metadata": {}
                },
                {
                    "output_type": "display_data",
                    "data": {
                        "text/html": "Total execution time: 00:58:33.595"
                    },
                    "metadata": {}
                }
            ],
            "execution_count": 1
        },
        {
            "cell_type": "markdown",
            "source": [
                "TODO: Add a column for the identity (auto-increment)."
            ],
            "metadata": {
                "azdata_cell_guid": "c86b4fc7-2989-44fb-a545-ab91d849e59c"
            },
            "attachments": {}
        },
        {
            "cell_type": "code",
            "source": [
                "Use MouseHypothalamus;\r\n",
                "SELECT IDENTITY(int,1,1) as id,* INTO Molecules FROM #TempMolecules;"
            ],
            "metadata": {
                "language": "sql",
                "azdata_cell_guid": "3f0113b3-3678-4201-ae68-d20a9f2586db",
                "tags": []
            },
            "outputs": [
                {
                    "output_type": "error",
                    "evalue": "Msg 208, Level 16, State 0, Line 2\nInvalid object name '#TempMolecules'.",
                    "ename": "",
                    "traceback": []
                },
                {
                    "output_type": "display_data",
                    "data": {
                        "text/html": "Total execution time: 00:00:00.004"
                    },
                    "metadata": {}
                }
            ],
            "execution_count": 3
        },
        {
            "cell_type": "markdown",
            "source": [
                "# Geometries\n",
                "\n",
                "Let's start by creating the geometry objects for the molecules."
            ],
            "metadata": {
                "language": "sql",
                "azdata_cell_guid": "17f9cc9c-a400-4e94-8de9-39b1b57ffeb8"
            },
            "attachments": {}
        },
        {
            "cell_type": "code",
            "source": [
                "Use MouseHypothalamus;\n",
                "\n",
                "DROP TABLE IF EXISTS MoleculesWithPoints;\n",
                "SELECT \n",
                "        id, \n",
                "        Gene_name, \n",
                "        Cell_name, \n",
                "        Animal_ID, \n",
                "        Bregma, \n",
                "        Centroid_Z,\n",
                "        geometry::STGeomFromText('POINT(' + CONVERT(VARCHAR(20), Centroid_X) + ' ' + CONVERT(VARCHAR(20), Centroid_Y) + ')', 0) AS point\n",
                "    INTO MoleculesWithPoints \n",
                "    FROM Molecules;\n",
                ""
            ],
            "metadata": {
                "language": "sql",
                "azdata_cell_guid": "e999bdf8-da27-4732-afb9-18fe593c324c",
                "tags": []
            },
            "outputs": [
                {
                    "output_type": "display_data",
                    "data": {
                        "text/html": "(467052740 rows affected)"
                    },
                    "metadata": {}
                },
                {
                    "output_type": "display_data",
                    "data": {
                        "text/html": "Total execution time: 04:10:57.025"
                    },
                    "metadata": {}
                }
            ],
            "execution_count": 9
        },
        {
            "cell_type": "code",
            "source": [
                "ALTER TABLE MoleculesWithPointsHead\n",
                "ADD CONSTRAINT moleculesWithPointsHead_id_PK PRIMARY KEY(id);"
            ],
            "metadata": {
                "azdata_cell_guid": "933758e6-19dd-42ae-967b-079418a8280c",
                "language": "sql"
            },
            "outputs": [],
            "execution_count": null
        },
        {
            "cell_type": "code",
            "source": [
                "ALTER TABLE MoleculesWithPoints\n",
                "ADD CONSTRAINT moleculesWithPoints_id_PK PRIMARY KEY(id);"
            ],
            "metadata": {
                "language": "sql",
                "azdata_cell_guid": "f82ef813-9c96-46f3-8e2a-1596fec87bea"
            },
            "outputs": [],
            "execution_count": null
        },
        {
            "cell_type": "code",
            "source": [
                "Use MouseHypothalamus;\n",
                "SELECT Max(Centroid_X) as maxx, Max(Centroid_Y) as maxy,  Min(Centroid_X) as minx, Min(Centroid_Y) as miny FROM MoleculesHead;\n",
                ""
            ],
            "metadata": {
                "language": "sql",
                "azdata_cell_guid": "cf9f1661-f57c-40b4-bc58-32b66a9a4c69"
            },
            "outputs": [
                {
                    "output_type": "display_data",
                    "data": {
                        "text/html": "(1 row affected)"
                    },
                    "metadata": {}
                },
                {
                    "output_type": "display_data",
                    "data": {
                        "text/html": "Total execution time: 00:00:00.012"
                    },
                    "metadata": {}
                },
                {
                    "output_type": "execute_result",
                    "metadata": {},
                    "execution_count": 19,
                    "data": {
                        "application/vnd.dataresource+json": {
                            "schema": {
                                "fields": [
                                    {
                                        "name": "maxx"
                                    },
                                    {
                                        "name": "maxy"
                                    },
                                    {
                                        "name": "minx"
                                    },
                                    {
                                        "name": "miny"
                                    }
                                ]
                            },
                            "data": [
                                {
                                    "0": "-2819.077",
                                    "1": "3387.196",
                                    "2": "-3017.902",
                                    "3": "3187.312"
                                }
                            ]
                        },
                        "text/html": [
                            "<table>",
                            "<tr><th>maxx</th><th>maxy</th><th>minx</th><th>miny</th></tr>",
                            "<tr><td>-2819.077</td><td>3387.196</td><td>-3017.902</td><td>3187.312</td></tr>",
                            "</table>"
                        ]
                    }
                }
            ],
            "execution_count": 19
        },
        {
            "cell_type": "code",
            "source": [
                "Use MouseHypothalamus;\n",
                "SELECT Max(Centroid_X) as maxx, Max(Centroid_Y) as maxy,  Min(Centroid_X) as minx, Min(Centroid_Y) as miny FROM Molecules;"
            ],
            "metadata": {
                "language": "sql",
                "azdata_cell_guid": "5f2c2ab5-b2bc-4288-96f0-a1fe6479b60f"
            },
            "outputs": [
                {
                    "output_type": "display_data",
                    "data": {
                        "text/html": "(1 row affected)"
                    },
                    "metadata": {}
                },
                {
                    "output_type": "display_data",
                    "data": {
                        "text/html": "Total execution time: 00:00:03.816"
                    },
                    "metadata": {}
                },
                {
                    "output_type": "execute_result",
                    "metadata": {},
                    "execution_count": 20,
                    "data": {
                        "application/vnd.dataresource+json": {
                            "schema": {
                                "fields": [
                                    {
                                        "name": "maxx"
                                    },
                                    {
                                        "name": "maxy"
                                    },
                                    {
                                        "name": "minx"
                                    },
                                    {
                                        "name": "miny"
                                    }
                                ]
                            },
                            "data": [
                                {
                                    "0": "4203.399",
                                    "1": "4968.7",
                                    "2": "-4289.699",
                                    "3": "-5009.986"
                                }
                            ]
                        },
                        "text/html": [
                            "<table>",
                            "<tr><th>maxx</th><th>maxy</th><th>minx</th><th>miny</th></tr>",
                            "<tr><td>4203.399</td><td>4968.7</td><td>-4289.699</td><td>-5009.986</td></tr>",
                            "</table>"
                        ]
                    }
                }
            ],
            "execution_count": 20
        },
        {
            "cell_type": "code",
            "source": [
                "Use MouseHypothalamus;\n",
                "CREATE SPATIAL INDEX MoleculesPointInd ON\n",
                "   [MouseHypothalamus].[dbo].[MoleculesWithPoints](point)\n",
                "   WITH (GRIDS = (HIGH, HIGH, HIGH, HIGH), \n",
                "        BOUNDING_BOX = (XMIN = -4300,YMIN = -5100, XMAX = 4300, YMAX = 5000)); -- approx based on the actual min/max values in the data"
            ],
            "metadata": {
                "language": "sql",
                "azdata_cell_guid": "1a1c022b-ae78-4ba0-89ca-64270ddfb058"
            },
            "outputs": [
                {
                    "output_type": "error",
                    "evalue": "Msg 12008, Level 16, State 1, Line 2\nTable 'MouseHypothalamus.dbo.MoleculesWithPoints' does not have a clustered primary key as required by the spatial index. Make sure that the primary key column exists on the table before creating a spatial index.",
                    "ename": "",
                    "traceback": []
                },
                {
                    "output_type": "display_data",
                    "data": {
                        "text/html": "Total execution time: 00:00:00.056"
                    },
                    "metadata": {}
                }
            ],
            "execution_count": 21
        },
        {
            "cell_type": "markdown",
            "source": [
                "Now we'll create POLYGON spatial types using the CellBoundariesWithGeometryStrings data."
            ],
            "metadata": {
                "language": "sql",
                "azdata_cell_guid": "5630fe2c-c843-4027-bb03-8645c061860e"
            },
            "attachments": {}
        },
        {
            "cell_type": "code",
            "source": [
                "Use MouseHypothalamus;\n",
                "\n",
                "DROP TABLE IF EXISTS CellBoundariesWithPolygonsHead;\n",
                "SELECT \n",
                "        id, \n",
                "        layer,\n",
                "        feature_uid,\n",
                "        feature_id,\n",
                "        geometry::STGeomFromText(REPLACE(geometry_string, '\"', ''),0) AS polygon\n",
                "    INTO CellBoundariesWithPolygonsHead\n",
                "    FROM CellBoundariesHeadWithGeometryStrings;"
            ],
            "metadata": {
                "language": "sql",
                "azdata_cell_guid": "e866504f-a0c7-4474-b823-e63c22c2fa17"
            },
            "outputs": [
                {
                    "output_type": "display_data",
                    "data": {
                        "text/html": "(6930 rows affected)"
                    },
                    "metadata": {}
                },
                {
                    "output_type": "display_data",
                    "data": {
                        "text/html": "Total execution time: 00:00:11.874"
                    },
                    "metadata": {}
                }
            ],
            "execution_count": 17
        },
        {
            "cell_type": "code",
            "source": [
                "ALTER TABLE CellBoundariesWithPolygons\n",
                "ADD CONSTRAINT cellBoundariesWithPolygons_id_PK PRIMARY KEY(id);"
            ],
            "metadata": {
                "language": "sql",
                "azdata_cell_guid": "1c75c450-50c1-4374-a2b8-cc4d9ded9816"
            },
            "outputs": [],
            "execution_count": null
        },
        {
            "cell_type": "code",
            "source": [
                "ALTER TABLE CellBoundariesWithPolygonsHead\n",
                "ADD CONSTRAINT cellBoundariesWithPolygonsHead_id_PK PRIMARY KEY(id);"
            ],
            "metadata": {
                "language": "sql",
                "azdata_cell_guid": "6fb48de0-506f-4b20-959b-ce318e9b3a45"
            },
            "outputs": [],
            "execution_count": null
        }
    ]
}