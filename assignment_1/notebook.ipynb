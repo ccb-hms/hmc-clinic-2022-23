{
    "metadata": {
        "kernelspec": {
            "name": "SQL",
            "display_name": "SQL",
            "language": "sql"
        },
        "language_info": {
            "name": "sql",
            "version": ""
        }
    },
    "nbformat_minor": 2,
    "nbformat": 4,
    "cells": [
        {
            "cell_type": "markdown",
            "source": [
                "### In the lab assignment of Week 2 of the tutorial, we used queries on a **Bookshop** dataset to practice the following skills:\n",
                "\n",
                "- Minimize data redundancy and inconsistency in a database by using normalization\n",
                "\n",
                "- Use keys to uniquely identify a record in a table, establish a relationship between tables, and identify the relation between them\n",
                "\n",
                "- Maintain data integrity in a relational data model using constraints"
            ],
            "metadata": {
                "azdata_cell_guid": "633886f8-29bc-4d28-b6ac-ce796c10aff7"
            },
            "attachments": {}
        },
        {
            "cell_type": "markdown",
            "source": [
                "A **<u>primary key</u>** is a column or group of columns that uniquely identify every row in a table. A table cannot have more than one primary key. The rules for defining a primary key are:\n",
                "\n",
                "- No two rows can have a duplicate primary key value\n",
                "- Every row must have a primary key value\n",
                "- No primary key field can be null\n",
                "\n",
                "We want to create <span style=\"background-color: rgb(255, 255, 255); color: rgb(51, 51, 51); font-family: &quot;Microsoft YaHei&quot;, Helvetica, &quot;Meiryo UI&quot;, &quot;Malgun Gothic&quot;, &quot;Segoe UI&quot;, &quot;Trebuchet MS&quot;, Monaco, monospace, Tahoma, STXihei, 华文细黑, STHeiti, &quot;Helvetica Neue&quot;, &quot;Droid Sans&quot;, &quot;wenquanyi micro hei&quot;, FreeSans, Arimo, Arial, SimSun, 宋体, Heiti, 黑体, sans-serif;\">a primary key for the <i>BookShop</i> and <i>BookShop_AuthorDetails</i> tables to uniquely identify every row in each of the tables.&nbsp;</span>      \n",
                "\n",
                "The following code block shows how we should set <span style=\"background-color: rgb(255, 255, 255); color: rgb(51, 51, 51); font-family: &quot;Microsoft YaHei&quot;, Helvetica, &quot;Meiryo UI&quot;, &quot;Malgun Gothic&quot;, &quot;Segoe UI&quot;, &quot;Trebuchet MS&quot;, Monaco, monospace, Tahoma, STXihei, 华文细黑, STHeiti, &quot;Helvetica Neue&quot;, &quot;Droid Sans&quot;, &quot;wenquanyi micro hei&quot;, FreeSans, Arimo, Arial, SimSun, 宋体, Heiti, 黑体, sans-serif;\">the <i>BOOK_ID</i> column of the <i>BookShop</i> table as a primary key for each of the tables.</span>"
            ],
            "metadata": {
                "azdata_cell_guid": "526c5aa6-8b2d-4616-ac67-b8a2df35196d"
            },
            "attachments": {}
        },
        {
            "cell_type": "code",
            "source": [
                "-- This is based off the given BookShop-CREATE-INSERT.sql code from Lab 1, \n",
                "-- but written to make it compatible for TSQL\n",
                "\n",
                "-- Drop the tables in case they exist\n",
                "\n",
                "DROP TABLE BookShop;\n",
                "\n",
                "-- Create the table\n",
                "\n",
                "CREATE TABLE BookShop (\n",
                "\tBOOK_ID VARCHAR(4) NOT NULL, \n",
                "\tTITLE VARCHAR(100) NOT NULL, \n",
                "\tAUTHOR_NAME VARCHAR(30) NOT NULL, \n",
                "\tAUTHOR_BIO VARCHAR(250),\n",
                "\tAUTHOR_ID INTEGER NOT NULL, \n",
                "\tPUBLICATION_DATE DATE NOT NULL,\n",
                "\tPRICE_USD DECIMAL(6,2) CHECK(Price_USD>0) NOT NULL\n",
                "\t);\n",
                "\n",
                "-- Insert sample data into the table\n",
                "\n",
                "INSERT INTO BookShop VALUES\n",
                "('B101', 'Introduction to Algorithms', 'Thomas H. Cormen', 'Thomas H. Cormen is the co-author of Introduction to Algorithms, along with Charles Leiserson, Ron Rivest, and Cliff Stein. He is a Full Professor of computer science at Dartmouth College and currently Chair of the Dartmouth College Writing Program.', 123 , '2001-09-01', 125),\n",
                "('B201', 'Structure and Interpretation of Computer Programs', 'Harold Abelson', 'Harold Abelson, Ph.D., is Class of 1922 Professor of Computer Science and Engineering in the Department of Electrical Engineering and Computer Science at MIT and a fellow of the IEEE.', 456, '1996-07-25', 65.5),\n",
                "('B301', 'Deep Learning', 'Ian Goodfellow', 'Ian J. Goodfellow is a researcher working in machine learning, currently employed at Apple Inc. as its director of machine learning in the Special Projects Group. He was previously employed as a research scientist at Google Brain.', 369, '2016-11-01', 82.7),\n",
                "('B401', 'Algorithms Unlocked', 'Thomas H. Cormen', 'Thomas H. Cormen is the co-author of Introduction to Algorithms, along with Charles Leiserson, Ron Rivest, and Cliff Stein. He is a Full Professor of computer science at Dartmouth College and currently Chair of the Dartmouth College Writing Program.', 123, '2013-05-15', 36.5),\n",
                "('B501', 'Machine Learning: A Probabilistic Perspective', 'Kevin P. Murphy', '', 157, '2012-08-24', 46);\n",
                "\n",
                "-- Retrieve all records from the table\n",
                "\n",
                "SELECT * FROM BookShop;"
            ],
            "metadata": {
                "language": "sql",
                "azdata_cell_guid": "ce1d727f-fa7c-406e-91a5-4e3be9934866"
            },
            "outputs": [],
            "execution_count": null
        },
        {
            "cell_type": "markdown",
            "source": [
                "Now we alter the original BookShop table by adding to it the primary key we just created."
            ],
            "metadata": {
                "azdata_cell_guid": "68c0dc26-5616-42b3-a02a-6e94e2912e2e"
            },
            "attachments": {}
        },
        {
            "cell_type": "code",
            "source": [
                "ALTER TABLE BookShop\n",
                "ADD PRIMARY KEY (BOOK_ID);\n",
                "\n",
                "ALTER TABLE BookShop_AuthorDetails\n",
                "ADD PRIMARY KEY (AUTHOR_ID);"
            ],
            "metadata": {
                "language": "sql",
                "azdata_cell_guid": "e35a28c5-8328-484b-b3da-499c64ad2435"
            },
            "outputs": [],
            "execution_count": null
        },
        {
            "cell_type": "markdown",
            "source": [
                "<span style=\"color: rgb(51, 51, 51); font-family: &quot;Microsoft YaHei&quot;, Helvetica, &quot;Meiryo UI&quot;, &quot;Malgun Gothic&quot;, &quot;Segoe UI&quot;, &quot;Trebuchet MS&quot;, Monaco, monospace, Tahoma, STXihei, 华文细黑, STHeiti, &quot;Helvetica Neue&quot;, &quot;Droid Sans&quot;, &quot;wenquanyi micro hei&quot;, FreeSans, Arimo, Arial, SimSun, 宋体, Heiti, 黑体, sans-serif; background-color: rgb(255, 255, 255);\">A <b><u>foreign key</u></b> is a column that establishes a relationship between two tables.</span>\n",
                "\n",
                "<span style=\"color: rgb(51, 51, 51); font-family: &quot;Microsoft YaHei&quot;, Helvetica, &quot;Meiryo UI&quot;, &quot;Malgun Gothic&quot;, &quot;Segoe UI&quot;, &quot;Trebuchet MS&quot;, Monaco, monospace, Tahoma, STXihei, 华文细黑, STHeiti, &quot;Helvetica Neue&quot;, &quot;Droid Sans&quot;, &quot;wenquanyi micro hei&quot;, FreeSans, Arimo, Arial, SimSun, 宋体, Heiti, 黑体, sans-serif;\">A table can have multiple foreign keys referencing primary keys of other tables.&nbsp;</span>    \n",
                "\n",
                "<span style=\"color: rgb(51, 51, 51); font-family: &quot;Microsoft YaHei&quot;, Helvetica, &quot;Meiryo UI&quot;, &quot;Malgun Gothic&quot;, &quot;Segoe UI&quot;, &quot;Trebuchet MS&quot;, Monaco, monospace, Tahoma, STXihei, 华文细黑, STHeiti, &quot;Helvetica Neue&quot;, &quot;Droid Sans&quot;, &quot;wenquanyi micro hei&quot;, FreeSans, Arimo, Arial, SimSun, 宋体, Heiti, 黑体, sans-serif;\">Rules for defining a foreign key</span>\n",
                "\n",
                "- A foreign key in the referencing table must match the structure and data type of the existing primary key in the referenced table\n",
                "- A foreign key can only have values present in the referenced primary key\n",
                "- Foreign keys do not need to be unique. Most often they aren’t\n",
                "- Foreign keys can be null\n",
                "\n",
                "We want to <span style=\"background-color: rgb(255, 255, 255); color: rgb(51, 51, 51); font-family: &quot;Microsoft YaHei&quot;, Helvetica, &quot;Meiryo UI&quot;, &quot;Malgun Gothic&quot;, &quot;Segoe UI&quot;, &quot;Trebuchet MS&quot;, Monaco, monospace, Tahoma, STXihei, 华文细黑, STHeiti, &quot;Helvetica Neue&quot;, &quot;Droid Sans&quot;, &quot;wenquanyi micro hei&quot;, FreeSans, Arimo, Arial, SimSun, 宋体, Heiti, 黑体, sans-serif;\">create a foreign key for the <i>BookShop</i> table by setting its <i>AUTHOR_ID</i> column as a foreign key.</span>\n",
                "\n",
                "<span style=\"background-color: rgb(255, 255, 255); color: rgb(51, 51, 51); font-family: &quot;Microsoft YaHei&quot;, Helvetica, &quot;Meiryo UI&quot;, &quot;Malgun Gothic&quot;, &quot;Segoe UI&quot;, &quot;Trebuchet MS&quot;, Monaco, monospace, Tahoma, STXihei, 华文细黑, STHeiti, &quot;Helvetica Neue&quot;, &quot;Droid Sans&quot;, &quot;wenquanyi micro hei&quot;, FreeSans, Arimo, Arial, SimSun, 宋体, Heiti, 黑体, sans-serif;\">The following code block&nbsp;</span> <span style=\"background-color: rgb(255, 255, 255); color: rgb(51, 51, 51); font-family: &quot;Microsoft YaHei&quot;, Helvetica, &quot;Meiryo UI&quot;, &quot;Malgun Gothic&quot;, &quot;Segoe UI&quot;, &quot;Trebuchet MS&quot;, Monaco, monospace, Tahoma, STXihei, 华文细黑, STHeiti, &quot;Helvetica Neue&quot;, &quot;Droid Sans&quot;, &quot;wenquanyi micro hei&quot;, FreeSans, Arimo, Arial, SimSun, 宋体, Heiti, 黑体, sans-serif;\">establishes a relationship between the <i>BookShop</i> and <i>BookShop_AuthorDetails</i> tables.</span>"
            ],
            "metadata": {
                "azdata_cell_guid": "56128031-60ea-49ce-b575-1c54c3149ab3"
            },
            "attachments": {}
        },
        {
            "cell_type": "code",
            "source": [
                "ALTER TABLE BookShop\n",
                "ADD CONSTRAINT fk_BookShop FOREIGN KEY (AUTHOR_ID)\n",
                "    REFERENCES BookShop_AuthorDetails(AUTHOR_ID)\n",
                "    ON UPDATE NO ACTION\n",
                "    ON DELETE NO ACTION;"
            ],
            "metadata": {
                "azdata_cell_guid": "ec859058-c7fa-493e-95ac-7c858f745a14",
                "language": "sql",
                "tags": []
            },
            "outputs": [
                {
                    "output_type": "error",
                    "ename": "",
                    "evalue": "Msg 4902, Level 16, State 1, Line 1\nCannot find the object \"BookShop\" because it does not exist or you do not have permissions.",
                    "traceback": []
                },
                {
                    "output_type": "display_data",
                    "data": {
                        "text/html": "Total execution time: 00:00:00.009"
                    },
                    "metadata": {}
                }
            ],
            "execution_count": 1
        }
    ]
}